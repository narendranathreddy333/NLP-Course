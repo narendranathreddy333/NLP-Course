{
 "cells": [
  {
   "cell_type": "markdown",
   "metadata": {
    "id": "view-in-github"
   },
   "source": [
    "<a href=\"https://colab.research.google.com/github/unt-iialab/INFO5731_Spring2020/blob/master/Assignments/INFO5731_Assignment_One.ipynb\" target=\"_parent\"><img src=\"https://colab.research.google.com/assets/colab-badge.svg\" alt=\"Open In Colab\"/></a>"
   ]
  },
  {
   "cell_type": "markdown",
   "metadata": {
    "id": "Ryk8D1Q4Wsrp"
   },
   "source": [
    "# **INFO5731 Assignment One**"
   ]
  },
  {
   "cell_type": "markdown",
   "metadata": {
    "id": "qcP6re2g5A5r"
   },
   "source": [
    "This assignment includes a range of programming tasks and data analysis exercises, aiming to enhance your Python skills and proficiency in string manipulation, numerical computations, and data science. Follow the instructions carefully and design well-structured Python programs to address each question.\n",
    "\n",
    "**Expectations**:\n",
    "*   Use the provided .*ipynb* document to write your code & respond to the questions. Avoid generating a new file.\n",
    "*   Write complete answers and run all the cells before submission.\n",
    "*   Make sure the submission is \"clean\"; *i.e.*, no unnecessary code cells.\n",
    "*   Once finished, allow shared rights from top right corner (*see Canvas for details*).\n",
    "\n",
    "**Total points**: 100\n",
    "\n",
    "**Deadline**: Wednesday, at 11:59 PM.\n",
    "\n",
    "**Late Submission will have a penalty of 10% reduction for each day after the deadline.**\n"
   ]
  },
  {
   "cell_type": "markdown",
   "metadata": {
    "id": "JkzR8cFAyGik"
   },
   "source": [
    "# Question 1 (10 points)\n",
    "\n",
    "The formula that describes the volume V of a hemisphere with radius r is the following:\n",
    "\n",
    "$ V=\\frac{2}{3}\\ast\\ \\pi\\ast\\ r^3 $\n",
    "\n",
    "Write a program to calculate the value of V when r is in the range of even numbers from 1-20. Output the result in the following format:\n",
    "\n",
    "\tr\tV\n",
    "\t2\t…\n",
    "\t4\t…\n",
    "\t6\t…\n",
    "\t.\n",
    "\t.\n",
    "\t.\n",
    "\t20\t…\n"
   ]
  },
  {
   "cell_type": "code",
   "execution_count": 2,
   "metadata": {
    "colab": {
     "base_uri": "https://localhost:8080/"
    },
    "executionInfo": {
     "elapsed": 7,
     "status": "ok",
     "timestamp": 1707349241302,
     "user": {
      "displayName": "R Narendranath Reddy",
      "userId": "14955989364122331740"
     },
     "user_tz": 360
    },
    "id": "jDyTKYs-yGit",
    "outputId": "b9dd6ed1-4787-4454-9358-4e4253b5c758"
   },
   "outputs": [
    {
     "name": "stdout",
     "output_type": "stream",
     "text": [
      "r    V\n",
      " 2   16.76\n",
      " 4   134.04\n",
      " 6   452.39\n",
      " 8   1072.33\n",
      "10   2094.40\n",
      "12   3619.11\n",
      "14   5747.02\n",
      "16   8578.64\n",
      "18   12214.51\n",
      "20   16755.16\n"
     ]
    }
   ],
   "source": [
    "import numpy as np # Imports the NumPy library, which is widely used in Python for numerical computing.\n",
    "\n",
    "r_l = [i for i in range(2, 21, 2)] # List of even numbers from 2 to 20\n",
    "r = np.array(r_l) # converting list to NumPy array\n",
    "v = (2/3) * np.pi * r**3 # performing operation\n",
    "\n",
    "print(\"r    V\")\n",
    "for r, v in zip(r, v):\n",
    "    print(f\"{r:2d}   {v:.2f}\") # printing r, v values in the following format\n"
   ]
  },
  {
   "cell_type": "markdown",
   "metadata": {
    "id": "90_NR8c5XGWc"
   },
   "source": [
    "# Question 2 (20 points)\n",
    "\n",
    "(a) Write a Python program to generate a sequence of 12 random numbers falling within the range of 50 to 150.\n",
    "\n",
    "(b) Arrange the generated numbers in ascending order. Display the sorted list.\n",
    "\n",
    "(c) Extend the program to arrange the numbers in descending order as well. Present the sorted list accordingly.\n",
    "\n",
    "(d) Compute and output the average of the entire group of generated numbers.\n",
    "\n",
    "(e) Enhance the program to calculate and display the average of the first 6 numbers from both the ascending and descending sorted lists."
   ]
  },
  {
   "cell_type": "code",
   "execution_count": 3,
   "metadata": {
    "colab": {
     "base_uri": "https://localhost:8080/"
    },
    "executionInfo": {
     "elapsed": 220,
     "status": "ok",
     "timestamp": 1707349244610,
     "user": {
      "displayName": "R Narendranath Reddy",
      "userId": "14955989364122331740"
     },
     "user_tz": 360
    },
    "id": "5QX6bJjGWXY9",
    "outputId": "918548d8-2a49-44ba-b404-943f5a71e827"
   },
   "outputs": [
    {
     "data": {
      "text/plain": [
       "([125, 138, 104, 69, 54, 94, 137, 89, 140, 116, 69, 103],\n",
       " [54, 69, 69, 89, 94, 103, 104, 116, 125, 137, 138, 140],\n",
       " [140, 138, 137, 125, 116, 104, 103, 94, 89, 69, 69, 54],\n",
       " 103.16666666666667,\n",
       " 79.66666666666667,\n",
       " 126.66666666666667)"
      ]
     },
     "execution_count": 3,
     "metadata": {},
     "output_type": "execute_result"
    }
   ],
   "source": [
    "import random\n",
    "\n",
    "# (a) Write a Python program to generate a sequence of 12 random numbers falling within the range of 50 to 150.\n",
    "r_num = [] # This Empty list is used to store the random numbers.\n",
    "for _ in range(12): # _ is variable name\n",
    "    r_num.append(random.randint(50, 150)) # Appending random numbers to r_num using append() method.\n",
    "# (b) Arrange the numbers in ascending order\n",
    "ascending_order = sorted(r_num)\n",
    "# (c) Arrange the numbers in descending order\n",
    "descending_order = sorted(r_num, reverse=True)\n",
    "# (d) Compute the average of the entire group of numbers\n",
    "average_group = sum(r_num) / len(r_num)\n",
    "# (e) Calculate the average of the first 6 numbers from both sorted lists\n",
    "average_first_6_ascending = sum(ascending_order[:6]) / 6\n",
    "average_first_6_descending = sum(descending_order[:6]) / 6\n",
    "\n",
    "r_num, ascending_order, descending_order, average_group, average_first_6_ascending, average_first_6_descending\n"
   ]
  },
  {
   "cell_type": "markdown",
   "metadata": {
    "id": "1F_PZdH9Sh49"
   },
   "source": [
    "# Question 3 (20 points)\n",
    "\n",
    "Create a Python program that encompasses various string manipulation task:\n",
    "\n",
    "(a) Prompt the user to input two sentences.\n",
    "\n",
    "(b) Transform each sentence into a list, where each element corresponds to a word in the sentence. For example, if the sentences are \"Hello, how are you doing today?\" and \"This is an example sentence for the program!\"\n",
    "\n",
    "The program should output:\n",
    "['Hello', ',', 'how', 'are', 'you', 'doing', 'today', '?', 'This', 'is', 'an', 'example', 'sentence', 'for', 'the', 'program', '!']\n",
    "\n",
    "(c) Compare the two sentences. Print out a list of words that occur in both sentences.\n",
    "\n",
    "(d) Remove any punctuation from the sentence and print the sanitized sentences. It should remove at least the following characters, but it can remove more: period(“.”), comma (“,”), semicolon (“;”), and colon (“:”).\n",
    "\n",
    "(e) Count the number of vowels in each of the sentences. Print out each vowel and the occurrences  in the each of the two sentences separately, such as:\n",
    "\n",
    "Sentence1: a:2, e:2, i:0, etc.\n",
    "Sentence2: a:1, e:2, i:2, etc.\n",
    "\n",
    "Design a well-structured Python program to execute these tasks efficiently."
   ]
  },
  {
   "cell_type": "code",
   "execution_count": 4,
   "metadata": {
    "colab": {
     "base_uri": "https://localhost:8080/"
    },
    "executionInfo": {
     "elapsed": 20948,
     "status": "ok",
     "timestamp": 1707349277794,
     "user": {
      "displayName": "R Narendranath Reddy",
      "userId": "14955989364122331740"
     },
     "user_tz": 360
    },
    "id": "Y0oOSlsOS0cq",
    "outputId": "89a6fd06-2045-43f5-cf47-311f07038cf2"
   },
   "outputs": [
    {
     "name": "stdout",
     "output_type": "stream",
     "text": [
      "First sentence: Hello, how are you doing today?\n",
      "Second sentence: This is an example sentence for the program!\n"
     ]
    },
    {
     "data": {
      "text/plain": [
       "{'combined_list': ['Hello',\n",
       "  ',',\n",
       "  'how',\n",
       "  'are',\n",
       "  'you',\n",
       "  'doing',\n",
       "  'today',\n",
       "  '?',\n",
       "  'This',\n",
       "  'is',\n",
       "  'an',\n",
       "  'example',\n",
       "  'sentence',\n",
       "  'for',\n",
       "  'the',\n",
       "  'program',\n",
       "  '!'],\n",
       " 'common_words': [],\n",
       " 'sanitized_sentence1': 'Hello how are you doing today',\n",
       " 'sanitized_sentence2': 'This is an example sentence for the program',\n",
       " 'vowel_count1': Counter({'e': 2, 'o': 5, 'a': 2, 'u': 1, 'i': 1}),\n",
       " 'vowel_count2': Counter({'i': 2, 'a': 3, 'e': 6, 'o': 2})}"
      ]
     },
     "execution_count": 4,
     "metadata": {},
     "output_type": "execute_result"
    }
   ],
   "source": [
    "import re\n",
    "from collections import Counter #It's used here to count the occurrences of vowels in sentences.\n",
    "\n",
    "\n",
    "# (a) Prompt the user to input two sentences.\n",
    "sen1 = input(\"First sentence: \") # Prompt the user for the first sentence\n",
    "sen2 = input(\"Second sentence: \") # Prompt the user for the second sentence\n",
    "\n",
    "# Function to prompt for sentences\n",
    "# This function takes two strings, sen1 and sen2, as input\n",
    "def string_manipulation(sen1, sen2):\n",
    "\n",
    "\n",
    "    # (b) Transform each sentence into a list of words and punctuation\n",
    "\n",
    "    \"\"\"\n",
    "    \\w+ matches one or more word characters (letters, digits, or underscore).\n",
    "    [.,!?;:] matches any single character listed (punctuation marks).\n",
    "    \"\"\"\n",
    "    w_list1 = re.findall(r'\\w+|[.,!?;:]', sen1)\n",
    "    w_list2 = re.findall(r'\\w+|[.,!?;:]', sen2)\n",
    "    combined_list = w_list1 + w_list2\n",
    "\n",
    "    # (c) Compare the two sentences for common words\n",
    "    same_words = set(w_list1) & set(w_list2)\n",
    "\n",
    "    # (d) Remove punctuation and print sanitized sentences\n",
    "    # [.,!?;:] are replaced with an empty string\n",
    "    # re.sub: Replaces all occurrences of the specified punctuation marks in the sentences with an empty string\n",
    "    sanitized_sen1 = re.sub(r'[.,!?;:]', '', sen1)\n",
    "    sanitized_sen2 = re.sub(r'[.,!?;:]', '', sen2)\n",
    "\n",
    "    # (e) Count vowels in each of the sentences\n",
    "    # Iterates over each sanitized sentence, counting only vowels (both lowercase and uppercase are considered).\n",
    "\n",
    "    vowels = 'aeiouAEIOU'\n",
    "\n",
    "    # These lines count the occurrences of vowels in each sanitized sentence\n",
    "    vowel_count1 = Counter(letter for letter in sanitized_sen1 if letter in vowels)\n",
    "\n",
    "    vowel_count2 = Counter(letter for letter in sanitized_sen2 if letter in vowels)\n",
    "\n",
    "    \"\"\"\n",
    "    Returns the answers for the given question\n",
    "       1-A combined list of words and punctuation from both sentences.\n",
    "       2-A list of common words between both sentences.\n",
    "       3-Sanitized versions of both sentences (punctuation removed).\n",
    "       4-Vowel counts for each sentence.\n",
    "    \"\"\"\n",
    "    return {\n",
    "        \"combined_list\": combined_list,\n",
    "        \"common_words\": list(same_words),\n",
    "        \"sanitized_sentence1\": sanitized_sen1,\n",
    "        \"sanitized_sentence2\": sanitized_sen2,\n",
    "        \"vowel_count1\": vowel_count1,\n",
    "        \"vowel_count2\": vowel_count2\n",
    "    }\n",
    "\n",
    "\n",
    "\n",
    "# Execute the program with example inputs\n",
    "result = string_manipulation(sen1, sen2)\n",
    "result\n"
   ]
  },
  {
   "cell_type": "markdown",
   "metadata": {
    "id": "OP4-5qxAtInv"
   },
   "source": [
    "# Question 4 (20 Points)"
   ]
  },
  {
   "cell_type": "markdown",
   "metadata": {
    "id": "uzN4_hDptK9U"
   },
   "source": [
    "Design and implement a simple command-line calculator program. The program should handle both integers and floating-point numbers.\n",
    "\n",
    "(a) Write program that takes a mathematical expression as input and evaluates it. The program should support addition, subtraction, multiplication, and division.\n",
    "\n",
    "(b) Extend the calculator to handle parentheses in mathematical expressions. Implement the necessary logic to evaluate expressions with nested parentheses.\n",
    "\n",
    "(c) Enhance your calculator to include additional mathematical operations such as exponentiation, square root, and modulus.\n",
    "\n",
    "(d) Implement error handling in the calculator program. Handle cases such as division by zero and invalid input expressions. Provide meaningful error messages.\n",
    "\n",
    "(e) Implement a command to exit the calculator."
   ]
  },
  {
   "cell_type": "code",
   "execution_count": 5,
   "metadata": {
    "colab": {
     "base_uri": "https://localhost:8080/"
    },
    "executionInfo": {
     "elapsed": 66880,
     "status": "ok",
     "timestamp": 1707351026876,
     "user": {
      "displayName": "R Narendranath Reddy",
      "userId": "14955989364122331740"
     },
     "user_tz": 360
    },
    "id": "8nQnVxjJuYtu",
    "outputId": "8070c545-f64b-4249-da88-23d78584a348"
   },
   "outputs": [
    {
     "name": "stdout",
     "output_type": "stream",
     "text": [
      "Enter a mathematical expression: 4-1\n",
      "3\n",
      "Enter expression or type 'exit' to quit: 7+3\n",
      "10\n",
      "Enter expression or type 'exit' to quit: 7*6\n",
      "42\n",
      "Enter expression or type 'exit' to quit: 4/3\n",
      "1.3333333333333333\n",
      "Enter expression or type 'exit' to quit: 4**2\n",
      "16\n",
      "Enter expression or type 'exit' to quit: 11%5\n",
      "1\n",
      "Enter expression or type 'exit' to quit: exit\n"
     ]
    }
   ],
   "source": [
    "def calculate(expression):\n",
    "    try:\n",
    "        # Evaluate the basic mathematical expression\n",
    "        result = eval(expression)\n",
    "        return result\n",
    "    except ZeroDivisionError:\n",
    "      # Handle division by zero error\n",
    "        return \"Error: Division by zero.\"\n",
    "    except:\n",
    "      # Handle any other error\n",
    "        return \"Error: Invalid input expression.\"\n",
    "\n",
    "# Takes input like Calculations (eg: 10+2,..)\n",
    "expression = input(\"Enter a mathematical expression: \")\n",
    "# Printing\n",
    "# call the calculate function with this input\n",
    "print(calculate(expression))\n",
    "\n",
    "\n",
    "# Imports the math module so that its functions can be used in expressions.\n",
    "import math\n",
    "\n",
    "def calculate_additional(expression):\n",
    "    try:\n",
    "        # square root calculations\n",
    "        expression = expression.replace('sqrt', 'math.sqrt')\n",
    "        result = eval(expression)\n",
    "        return result\n",
    "    except ZeroDivisionError:\n",
    "        return \"Error: Division by zero.\"\n",
    "    except:\n",
    "        return \"Error: Invalid input expression.\"\n",
    "\n",
    "\n",
    "while True:\n",
    "    expression = input(\"Enter expression or type 'exit' to quit: \")\n",
    "    # Checks if the user entered 'exit' , and if so, breaks out of the loop to end the program.\n",
    "    if expression.lower() == 'exit':\n",
    "      # If the user types 'exit', break out of the loop to end the program\n",
    "        break\n",
    "    print(calculate_additional(expression))\n"
   ]
  },
  {
   "cell_type": "markdown",
   "metadata": {
    "id": "z3tBE7E-Xn5X"
   },
   "source": [
    "# Question 5 (30 points)\n",
    "\n",
    "In the field of Data Science, data is often formatted as a comma-delimited (CSV) file, where each line in a file corresponds to a field's value. Refer to Chapter 9 (p. 106) for more information on comma-delimited files.\n",
    "\n",
    "To answer this question, you will need to download the file [Assignment1_denton_housing.csv](https://raw.githubusercontent.com/unt-iialab/info5731-spring2022/main/assignments/Assignment1_denton_housing.csv) included with this assignment. The file contains statistics about housing in the city of Denton from 2008 to 2014. Write a program to implement the following questions.\n",
    "\n",
    "(a) (5 pts) Calculate the difference in the number of Occupied Housing Units from year to year and print it. The difference must be calculated for the consecutive years such as 2008-2009, 2009-2010 etc. Finally, print the values in the ascending order.\n",
    "\n",
    "(b) (5 pts) For all the years, calculate the percentage of housing units which are vacant an occupied. Print the results in the following format:\n",
    "\n",
    "Year Vacant Housing Units Occupied Housing Units\n",
    "\n",
    "    2008  30%   70%                          \n",
    "\t2009 ----- -----\n",
    "\t2010 ----- -----\n",
    "    2011 ----- -----\n",
    "\t2012 ----- -----\n",
    "    2013 ----- -----\n",
    "\t2014 ----- -----\n",
    "  \n",
    "  \n",
    "\n",
    "(c) (10 pts) Calculate and print the valued and years in which the highest number of housing units were vacant and occupied. Print the results in the following format:  \n",
    "\n",
    "                              Year\tValue\n",
    "\tVacant Housing Units\t  -----   -----\n",
    "\tOccupied Housing Units\t-----   -----\n",
    "\n",
    "(d) (10 pts) Calculate the harmonic mean of the total housing units and print it out. You can find the information about harmonic mean here: https://ncalculators.com/statistics/harmonic-mean-calculator.htm"
   ]
  },
  {
   "cell_type": "code",
   "execution_count": 1,
   "metadata": {
    "colab": {
     "base_uri": "https://localhost:8080/"
    },
    "executionInfo": {
     "elapsed": 23069,
     "status": "ok",
     "timestamp": 1707348223458,
     "user": {
      "displayName": "R Narendranath Reddy",
      "userId": "14955989364122331740"
     },
     "user_tz": 360
    },
    "id": "lqGYuHBhcsRH",
    "outputId": "398d986c-3465-4f8b-c549-b7130a16061b"
   },
   "outputs": [
    {
     "name": "stdout",
     "output_type": "stream",
     "text": [
      "Mounted at /content/drive\n",
      "   year             title_field  value\n",
      "0  2014     Total Housing Units  49109\n",
      "1  2014    Vacant Housing Units   2814\n",
      "2  2014  Occupied Housing Units  46295\n",
      "3  2013     Total Housing Units  47888\n",
      "4  2013    Vacant Housing Units   4215\n",
      "    year    diff\n",
      "17  2009  -795.0\n",
      "11  2011  -303.0\n",
      "20  2008     0.0\n",
      "8   2012  1404.0\n",
      "5   2013  1565.0\n",
      "2   2014  2622.0\n",
      "14  2010  5091.0\n",
      "   Year  Vacant Housing Units %  Occupied Housing Units %\n",
      "0  2008               10.882653                 89.117347\n",
      "1  2009                9.071116                 90.928884\n",
      "2  2010                8.142556                 91.857444\n",
      "3  2011                9.379522                 90.620478\n",
      "4  2012                6.677600                 93.322400\n",
      "5  2013                8.801788                 91.198212\n",
      "6  2014                5.730111                 94.269889\n",
      "Vacant Housing Units: 2014 4483\n",
      "Occupied Housing Units: 2014 46295\n",
      "Harmonic mean of the total housing units: 44398.28543969185\n"
     ]
    }
   ],
   "source": [
    "from google.colab import drive\n",
    "drive.mount('/content/drive')\n",
    "\n",
    "import pandas as pd\n",
    "\n",
    "# Adjust the path according to your file's location\n",
    "file_path = '/content/drive/My Drive/Colab Notebooks/Assignment1_denton_housing.csv'\n",
    "# Loading the CSV file into a pandas DataFrame\n",
    "data = pd.read_csv(file_path)\n",
    "\n",
    "# Display the DataFrame\n",
    "print(data.head())\n",
    "\n",
    "\n",
    "\n",
    "\n",
    "# (a) Calculate and Print the Year-to-Year Difference in Occupied Housing Units\n",
    "\n",
    "# Filtering the data for 'Occupied Housing Units'\n",
    "occupied_units = data[data['title_field'] == 'Occupied Housing Units'].sort_values(by='year')\n",
    "\n",
    "\n",
    "# Calculating differences\n",
    "occupied_units['diff'] = occupied_units['value'].diff().fillna(0)\n",
    "\n",
    "# Sorting and printing\n",
    "print(occupied_units[['year', 'diff']].sort_values(by='diff'))\n",
    "\n",
    "\n",
    "\n",
    "\n",
    "# (b) Calculate and Print the Percentage of Vacant and Occupied Housing Units\n",
    "# Initialize a empty list to store the results\n",
    "percentages = []\n",
    "\n",
    "# Iterate through each year\n",
    "# Loop through each unique year in the data\n",
    "for year in sorted(data['year'].unique()):\n",
    "   # Retrieve the total housing units for the year\n",
    "    total_units = data[(data['year'] == year) & (data['title_field'] == 'Total Housing Units')]['value'].values[0]\n",
    "     # Retrieve the vacant housing units for the year\n",
    "    vacant_units = data[(data['year'] == year) & (data['title_field'] == 'Vacant Housing Units')]['value'].values[0]\n",
    "     # Retrieve the occupied housing units for the year\n",
    "    occupied_units = data[(data['year'] == year) & (data['title_field'] == 'Occupied Housing Units')]['value'].values[0]\n",
    "\n",
    "    # Calculating the percentage of vacant units\n",
    "    vacant_percentage = (vacant_units / total_units) * 100\n",
    "    # Calculating the percentage of occupied units\n",
    "    occupied_percentage = (occupied_units / total_units) * 100\n",
    "\n",
    "    # Append to the list\n",
    "    percentages.append([year, vacant_percentage, occupied_percentage])\n",
    "\n",
    "# Converting to DataFrame and print\n",
    "percentages_df = pd.DataFrame(percentages, columns=['Year', 'Vacant Housing Units %', 'Occupied Housing Units %'])\n",
    "print(percentages_df)\n",
    "\n",
    "\n",
    "\n",
    "\n",
    "# (c) Highest Number of Vacant and Occupied Housing Units\n",
    "# Find the year with the highest number of vacant housing units\n",
    "maxi_vacant = data[data['title_field'] == 'Vacant Housing Units'].max()\n",
    "\n",
    "# Find the year with the highest number of occupied housing units\n",
    "maxi_occupied = data[data['title_field'] == 'Occupied Housing Units'].max()\n",
    "\n",
    "# Print the year and value of the highest number of vacant housing units\n",
    "print(f\"Vacant Housing Units: {maxi_vacant['year']} {maxi_vacant['value']}\")\n",
    "\n",
    "# Print the year and value of the highest number of occupied housing units\n",
    "print(f\"Occupied Housing Units: {maxi_occupied['year']} {maxi_occupied['value']}\")\n",
    "\n",
    "\n",
    "\n",
    "\n",
    "# (d) Calculate the Harmonic Mean of the Total Housing Units\n",
    "# Importing the harmonic mean function\n",
    "from scipy.stats import hmean\n",
    "\n",
    "# Filtering for total housing units\n",
    "total_units = data[data['title_field'] == 'Total Housing Units']['value']\n",
    "\n",
    "# Calculate harmonic mean\n",
    "harmonic_mean = hmean(total_units)\n",
    "\n",
    "# print the harmonic mean of total housing units\n",
    "print(f\"Harmonic mean of the total housing units: {harmonic_mean}\")\n",
    "\n"
   ]
  },
  {
   "cell_type": "markdown",
   "metadata": {
    "id": "q8BFCvWp32cf"
   },
   "source": [
    "# Mandatory Question\n",
    "\n",
    "Provide your thoughts on the assignment. What did you find challenging, and what aspects did you enjoy? Your opinion on the provided time to complete the assignment. Share any suggestions for improvement. Your feedback will be valuable for enhancing the learning experience."
   ]
  },
  {
   "cell_type": "code",
   "execution_count": null,
   "metadata": {
    "id": "_e557s2w4BpK"
   },
   "outputs": [],
   "source": [
    "\"\"\" The assignment offered an interesting and demanding coding experience,\n",
    "and a week was enough of time to do it. Its design and educational value are\n",
    "well-reflected in the way that complexity and interest are balanced, as well as\n",
    "in the appropriate completion window.\"\"\""
   ]
  }
 ],
 "metadata": {
  "colab": {
   "provenance": [],
   "toc_visible": true
  },
  "kernelspec": {
   "display_name": "Python 3 (ipykernel)",
   "language": "python",
   "name": "python3"
  },
  "language_info": {
   "codemirror_mode": {
    "name": "ipython",
    "version": 3
   },
   "file_extension": ".py",
   "mimetype": "text/x-python",
   "name": "python",
   "nbconvert_exporter": "python",
   "pygments_lexer": "ipython3",
   "version": "3.9.13"
  }
 },
 "nbformat": 4,
 "nbformat_minor": 1
}
