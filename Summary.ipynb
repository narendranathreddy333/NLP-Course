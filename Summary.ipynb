{
  "cells": [
    {
      "cell_type": "code",
      "execution_count": null,
      "id": "cb6b7887",
      "metadata": {
        "colab": {
          "base_uri": "https://localhost:8080/"
        },
        "id": "cb6b7887",
        "outputId": "e659891c-5429-4dcb-e718-f85878b86bd5"
      },
      "outputs": [
        {
          "output_type": "stream",
          "name": "stdout",
          "text": [
            "Drive already mounted at /content/drive; to attempt to forcibly remount, call drive.mount(\"/content/drive\", force_remount=True).\n"
          ]
        }
      ],
      "source": [
        "from google.colab import drive\n",
        "drive.mount('/content/drive')"
      ]
    },
    {
      "cell_type": "code",
      "source": [
        "import pandas as pd\n",
        "\n",
        "# Update the path below to the path where you've stored your dataset in Google Drive\n",
        "file_path = '/content/drive/My Drive/CV.csv'\n",
        "\n",
        "# Load the dataset\n",
        "data = pd.read_csv(file_path)\n",
        "\n",
        "# Preview the data\n",
        "print(data.head())"
      ],
      "metadata": {
        "colab": {
          "base_uri": "https://localhost:8080/"
        },
        "id": "DwzyRMFIP49m",
        "outputId": "cbe239ef-e7c8-4049-e896-914d4fc84e8b"
      },
      "id": "DwzyRMFIP49m",
      "execution_count": null,
      "outputs": [
        {
          "output_type": "stream",
          "name": "stdout",
          "text": [
            "   Unnamed: 0                                            authors  \\\n",
            "0        1266  Laurence Likforman-Sulem, Abderrazak Zahour, B...   \n",
            "1        3634  Fulufhelo Vincent Nelwamondo and Tshilidzi Mar...   \n",
            "2        4201                       Erik Berglund, Joaquin Sitte   \n",
            "3        4216                        Mourad Zerai, Maher Moakher   \n",
            "4        4451  Pierre-Fran\\c{c}ois Marteau (VALORIA), Gilbas ...   \n",
            "\n",
            "                                               title  \\\n",
            "0  Text Line Segmentation of Historical Documents...   \n",
            "1     Rough Sets Computations to Impute Missing Data   \n",
            "2   The Parameter-Less Self-Organizing Map algorithm   \n",
            "3  Riemannian level-set methods for tensor-valued...   \n",
            "4  Multiresolution Approximation of Polygonal Cur...   \n",
            "\n",
            "                                         journal-ref  \\\n",
            "0            Vol. 9, no 2-4, April 2007, pp. 123-138   \n",
            "1                                                NaN   \n",
            "2  IEEE Transactions on Neural Networks, 2006 v.1...   \n",
            "3                                                NaN   \n",
            "4                                                NaN   \n",
            "\n",
            "                         doi         categories license  \\\n",
            "0  10.1007/s10032-006-0023-z              cs.CV     NaN   \n",
            "1                        NaN        cs.CV cs.IR     NaN   \n",
            "2                        NaN  cs.NE cs.AI cs.CV     NaN   \n",
            "3                        NaN              cs.CV     NaN   \n",
            "4                        NaN              cs.CV     NaN   \n",
            "\n",
            "                                            abstract  \\\n",
            "0    There is a huge amount of historical documen...   \n",
            "1    Many techniques for handling missing data ha...   \n",
            "2    The Parameter-Less Self-Organizing Map (PLSO...   \n",
            "3    We present a novel approach for the derivati...   \n",
            "4    We propose a new algorithm to the problem of...   \n",
            "\n",
            "                                      authors_parsed  year  month  \n",
            "0  [['Likforman-Sulem', 'Laurence', ''], ['Zahour...  2007      5  \n",
            "1  [['Nelwamondo', 'Fulufhelo Vincent', ''], ['Ma...  2007      5  \n",
            "2  [['Berglund', 'Erik', ''], ['Sitte', 'Joaquin'...  2007      5  \n",
            "3  [['Zerai', 'Mourad', ''], ['Moakher', 'Maher',...  2007      5  \n",
            "4  [['Marteau', 'Pierre-François', '', 'VALORIA']...  2007      5  \n"
          ]
        }
      ]
    },
    {
      "cell_type": "code",
      "source": [
        "import pandas as pd\n",
        "\n",
        "# Update the path below to the path where you've stored your dataset in Google Drive\n",
        "file_path = '/content/drive/My Drive/CV.csv'\n",
        "\n",
        "# Load the dataset\n",
        "data = pd.read_csv(file_path)\n",
        "\n",
        "# Display the first row\n",
        "print(data.iloc[0])\n"
      ],
      "metadata": {
        "colab": {
          "base_uri": "https://localhost:8080/"
        },
        "id": "Upt5xRm1zfeS",
        "outputId": "ae0a22a6-ed74-4932-981c-cbb416f17bb3"
      },
      "id": "Upt5xRm1zfeS",
      "execution_count": null,
      "outputs": [
        {
          "output_type": "stream",
          "name": "stdout",
          "text": [
            "Unnamed: 0                                                     1266\n",
            "authors           Laurence Likforman-Sulem, Abderrazak Zahour, B...\n",
            "title             Text Line Segmentation of Historical Documents...\n",
            "journal-ref                 Vol. 9, no 2-4, April 2007, pp. 123-138\n",
            "doi                                       10.1007/s10032-006-0023-z\n",
            "categories                                                    cs.CV\n",
            "license                                                         NaN\n",
            "abstract            There is a huge amount of historical documen...\n",
            "authors_parsed    [['Likforman-Sulem', 'Laurence', ''], ['Zahour...\n",
            "year                                                           2007\n",
            "month                                                             5\n",
            "Name: 0, dtype: object\n"
          ]
        }
      ]
    },
    {
      "cell_type": "code",
      "source": [
        "# Display statistical summary of the dataset\n",
        "print(data.describe())\n"
      ],
      "metadata": {
        "colab": {
          "base_uri": "https://localhost:8080/"
        },
        "id": "tIHl6eZvz1hD",
        "outputId": "b162a4f0-44d1-4af5-dd4c-cdc24202b955"
      },
      "id": "tIHl6eZvz1hD",
      "execution_count": null,
      "outputs": [
        {
          "output_type": "stream",
          "name": "stdout",
          "text": [
            "         Unnamed: 0           year          month\n",
            "count  1.017990e+05  101799.000000  101799.000000\n",
            "mean   1.350339e+06    2020.229472       6.477706\n",
            "std    3.803895e+05       2.528588       3.239325\n",
            "min    1.266000e+03    2007.000000       1.000000\n",
            "25%    1.095597e+06    2019.000000       4.000000\n",
            "50%    1.404333e+06    2021.000000       6.000000\n",
            "75%    1.666318e+06    2022.000000       9.000000\n",
            "max    2.304647e+06    2023.000000      12.000000\n"
          ]
        }
      ]
    },
    {
      "cell_type": "code",
      "execution_count": null,
      "id": "8751c6b6",
      "metadata": {
        "colab": {
          "base_uri": "https://localhost:8080/"
        },
        "id": "8751c6b6",
        "outputId": "a4b99df5-7958-4c1b-81ba-408f7aced8c2"
      },
      "outputs": [
        {
          "output_type": "execute_result",
          "data": {
            "text/plain": [
              "(['the',\n",
              "  'diffusion',\n",
              "  'probabilistic',\n",
              "  'model',\n",
              "  'dpm',\n",
              "  'has',\n",
              "  'recently',\n",
              "  'gained',\n",
              "  'popularity',\n",
              "  'in'],\n",
              " ['the',\n",
              "  'diffusion',\n",
              "  'probabilistic',\n",
              "  'model',\n",
              "  'dpm',\n",
              "  'has',\n",
              "  'recently',\n",
              "  'gained',\n",
              "  'popularity',\n",
              "  'in'])"
            ]
          },
          "metadata": {},
          "execution_count": 4
        }
      ],
      "source": [
        "'''\n",
        "This code generates synthetic text documents and summaries, cleans and tokenizes them, and splits the data into training and testing\n",
        "sets for NLP tasks, using libraries like `numpy`, `re`, and `sklearn`.\n",
        "'''\n",
        "from sklearn.model_selection import train_test_split\n",
        "import numpy as np\n",
        "import re\n",
        "\n",
        "# Simulate a dataset\n",
        "np.random.seed(42)  # For reproducibility\n",
        "\n",
        "# Example document creation by concatenating titles (as a stand-in for full texts)\n",
        "documents = [' '.join(np.random.choice(data['abstract'], size=np.random.randint(5, 15))) for _ in range(100)]\n",
        "\n",
        "# Create synthetic summaries (for demonstration)\n",
        "summaries = [\" \".join(doc.split()[:np.random.randint(10, 20)]) + '...' for doc in documents]\n",
        "\n",
        "# Basic text cleaning and tokenization\n",
        "def clean_and_tokenize(text):\n",
        "    # Simple cleaning: lowercasing, removing non-alphanumeric characters\n",
        "    text = text.lower()\n",
        "    text = re.sub(r'[^a-z0-9\\s]', '', text)\n",
        "    # Simple tokenization by whitespace\n",
        "    tokens = text.split()\n",
        "    return tokens\n",
        "\n",
        "# Apply cleaning and tokenization\n",
        "documents_cleaned = [clean_and_tokenize(doc) for doc in documents]\n",
        "summaries_cleaned = [clean_and_tokenize(summary) for summary in summaries]\n",
        "\n",
        "# Split the dataset into training and testing sets\n",
        "train_docs, test_docs, train_summaries, test_summaries = train_test_split(documents_cleaned, summaries_cleaned, test_size=0.2, random_state=42)\n",
        "\n",
        "# Example output\n",
        "train_docs[0][:10], train_summaries[0][:10]  # Show the first 10 tokens of the first training document and summary\n"
      ]
    },
    {
      "cell_type": "code",
      "source": [],
      "metadata": {
        "id": "JpSVKRUWz0DD"
      },
      "id": "JpSVKRUWz0DD",
      "execution_count": null,
      "outputs": []
    },
    {
      "cell_type": "code",
      "source": [
        "# Preview the titles\n",
        "print(data['abstract'].head())\n"
      ],
      "metadata": {
        "colab": {
          "base_uri": "https://localhost:8080/"
        },
        "id": "PopgCRqBP3G8",
        "outputId": "b35a7634-c94c-4451-dd5f-5dc6af8bcd94"
      },
      "id": "PopgCRqBP3G8",
      "execution_count": null,
      "outputs": [
        {
          "output_type": "stream",
          "name": "stdout",
          "text": [
            "0      There is a huge amount of historical documen...\n",
            "1      Many techniques for handling missing data ha...\n",
            "2      The Parameter-Less Self-Organizing Map (PLSO...\n",
            "3      We present a novel approach for the derivati...\n",
            "4      We propose a new algorithm to the problem of...\n",
            "Name: abstract, dtype: object\n"
          ]
        }
      ]
    },
    {
      "cell_type": "code",
      "execution_count": null,
      "id": "f8a8fa40",
      "metadata": {
        "colab": {
          "base_uri": "https://localhost:8080/"
        },
        "id": "f8a8fa40",
        "outputId": "895be165-f3c0-4c22-c1dc-7b85903c3aa9"
      },
      "outputs": [
        {
          "output_type": "stream",
          "name": "stdout",
          "text": [
            "  (0, 76)\t0.10961303579799109\n",
            "  (0, 73)\t0.10961303579799109\n",
            "  (0, 87)\t0.10961303579799109\n",
            "  (0, 218)\t0.09318109467288804\n",
            "  (0, 115)\t0.10961303579799109\n",
            "  (0, 374)\t0.10961303579799109\n",
            "  (0, 284)\t0.08152244690580512\n",
            "  (0, 259)\t0.058843371700202124\n",
            "  (0, 128)\t0.09318109467288804\n",
            "  (0, 324)\t0.09318109467288804\n",
            "  (0, 246)\t0.10961303579799109\n",
            "  (0, 186)\t0.10961303579799109\n",
            "  (0, 170)\t0.10961303579799109\n",
            "  (0, 8)\t0.10961303579799109\n",
            "  (0, 26)\t0.10961303579799109\n",
            "  (0, 238)\t0.09318109467288804\n",
            "  (0, 32)\t0.10961303579799109\n",
            "  (0, 57)\t0.08152244690580512\n",
            "  (0, 308)\t0.09318109467288804\n",
            "  (0, 194)\t0.10961303579799109\n",
            "  (0, 188)\t0.21922607159598217\n",
            "  (0, 339)\t0.16304489381161025\n",
            "  (0, 96)\t0.10961303579799109\n",
            "  (0, 366)\t0.10961303579799109\n",
            "  (0, 198)\t0.10961303579799109\n",
            "  :\t:\n",
            "  (9, 341)\t0.10560790830853277\n",
            "  (9, 91)\t0.31682372492559835\n",
            "  (9, 102)\t0.10560790830853277\n",
            "  (9, 301)\t0.10560790830853277\n",
            "  (9, 330)\t0.4224316332341311\n",
            "  (9, 234)\t0.21121581661706554\n",
            "  (9, 314)\t0.21121581661706554\n",
            "  (9, 335)\t0.08977637039848708\n",
            "  (9, 383)\t0.08977637039848708\n",
            "  (9, 313)\t0.08977637039848708\n",
            "  (9, 291)\t0.07854371549185107\n",
            "  (9, 407)\t0.08977637039848708\n",
            "  (9, 226)\t0.17955274079697417\n",
            "  (9, 212)\t0.08977637039848708\n",
            "  (9, 166)\t0.08977637039848708\n",
            "  (9, 116)\t0.07854371549185107\n",
            "  (9, 114)\t0.07854371549185107\n",
            "  (9, 181)\t0.08977637039848708\n",
            "  (9, 235)\t0.17955274079697417\n",
            "  (9, 327)\t0.0698309914587125\n",
            "  (9, 72)\t0.07854371549185107\n",
            "  (9, 259)\t0.056693306209787055\n",
            "  (9, 339)\t0.07854371549185107\n",
            "  (9, 151)\t0.06271217758180539\n",
            "  (9, 378)\t0.23563114647555322\n",
            "Graph for abstract:   There is a huge amount of historical documents in libraries and in various\n",
            "National Archives that have not been exploited electronically. Although\n",
            "automatic reading of complete pages remains, in most cases, a long-term\n",
            "objective, tasks such as word spotting, text/image alignment, authentication\n",
            "and extraction of specific fields are in use today. For all these tasks, a\n",
            "major step is document segmentation into text lines. Because of the low quality\n",
            "and the complexity of these documents (background noise, artifacts due to\n",
            "aging, interfering lines),automatic text line segmentation remains an open\n",
            "research field. The objective of this paper is to present a survey of existing\n",
            "methods, developed during the last decade, and dedicated to documents of\n",
            "historical interest.\n",
            "\n",
            "Nodes: [('huge', {'pos': 'ADJ'}), ('historical', {'pos': 'ADJ'}), ('document', {'pos': 'NOUN'}), ('library', {'pos': 'NOUN'}), ('electronically', {'pos': 'ADV'}), ('automatic', {'pos': 'ADJ'}), ('reading', {'pos': 'NOUN'}), ('complete', {'pos': 'ADJ'}), ('page', {'pos': 'NOUN'}), ('case', {'pos': 'NOUN'}), ('long', {'pos': 'ADJ'}), ('term', {'pos': 'NOUN'}), ('objective', {'pos': 'NOUN'}), ('task', {'pos': 'NOUN'}), ('word', {'pos': 'NOUN'}), ('spotting', {'pos': 'NOUN'}), ('alignment', {'pos': 'NOUN'}), ('text', {'pos': 'NOUN'}), ('image', {'pos': 'NOUN'}), ('authentication', {'pos': 'NOUN'}), ('extraction', {'pos': 'NOUN'}), ('specific', {'pos': 'ADJ'}), ('field', {'pos': 'NOUN'}), ('use', {'pos': 'NOUN'}), ('today', {'pos': 'NOUN'}), ('major', {'pos': 'ADJ'}), ('step', {'pos': 'NOUN'}), ('segmentation', {'pos': 'NOUN'}), ('line', {'pos': 'NOUN'}), ('low', {'pos': 'ADJ'}), ('quality', {'pos': 'NOUN'}), ('complexity', {'pos': 'NOUN'}), ('noise', {'pos': 'NOUN'}), ('background', {'pos': 'NOUN'}), ('artifact', {'pos': 'NOUN'}), ('lines),automatic', {'pos': 'ADJ'}), ('open', {'pos': 'ADJ'}), ('research', {'pos': 'NOUN'}), ('paper', {'pos': 'NOUN'}), ('survey', {'pos': 'NOUN'}), ('method', {'pos': 'NOUN'}), ('decade', {'pos': 'NOUN'}), ('interest', {'pos': 'NOUN'})]\n",
            "Edges: [('document', 'historical', {'relation': 'amod'}), ('document', 'noise', {'relation': 'appos'}), ('reading', 'automatic', {'relation': 'amod'}), ('page', 'complete', {'relation': 'amod'}), ('term', 'long', {'relation': 'amod'}), ('objective', 'term', {'relation': 'compound'}), ('objective', 'task', {'relation': 'appos'}), ('spotting', 'word', {'relation': 'compound'}), ('spotting', 'alignment', {'relation': 'conj'}), ('alignment', 'image', {'relation': 'compound'}), ('alignment', 'authentication', {'relation': 'conj'}), ('image', 'text', {'relation': 'nmod'}), ('authentication', 'extraction', {'relation': 'conj'}), ('field', 'specific', {'relation': 'amod'}), ('field', 'open', {'relation': 'amod'}), ('field', 'research', {'relation': 'compound'}), ('step', 'major', {'relation': 'amod'}), ('segmentation', 'document', {'relation': 'compound'}), ('segmentation', 'lines),automatic', {'relation': 'amod'}), ('segmentation', 'line', {'relation': 'compound'}), ('line', 'text', {'relation': 'compound'}), ('quality', 'low', {'relation': 'amod'}), ('noise', 'background', {'relation': 'compound'}), ('noise', 'artifact', {'relation': 'conj'}), ('interest', 'historical', {'relation': 'amod'})]\n"
          ]
        }
      ],
      "source": [
        "'''\n",
        "\n",
        "This code constructs directed graphs from text abstract using TF-IDF for key word extraction, Spacy for parsing, and NetworkX for graph creation.\n",
        "Each graph represents syntactic dependencies between significant nouns, adjectives, and adverbs within a title, illustrating the structure and\n",
        "relationships of key terms.\n",
        "\n",
        "'''\n",
        "\n",
        "\n",
        "# Experiment 1: TF-IDF Based Graph Structure, SpaCy- parsing\n",
        "\n",
        "from sklearn.feature_extraction.text import TfidfVectorizer\n",
        "import networkx as nx\n",
        "import spacy\n",
        "import numpy as np\n",
        "\n",
        "# Initialize Spacy's English model\n",
        "nlp = spacy.load('en_core_web_sm')\n",
        "\n",
        "# Select a subset of titles for demonstration\n",
        "abstract = data['abstract'].head(10).tolist()\n",
        "\n",
        "# Calculate TF-IDF for the titles\n",
        "vectorizer = TfidfVectorizer(stop_words='english')\n",
        "tfidf_matrix = vectorizer.fit_transform(abstract)\n",
        "print(tfidf_matrix)\n",
        "feature_names = vectorizer.get_feature_names_out()\n",
        "\n",
        "# For simplicity, treat each abstract as a \"document\"\n",
        "for abstract in abstract:\n",
        "    doc = nlp(abstract)\n",
        "    G = nx.DiGraph()\n",
        "\n",
        "    # Simplified logic to add nodes based on the title's content\n",
        "    for token in doc:\n",
        "        if token.pos_ in ['NOUN', 'ADJ', 'ADV'] and not token.is_stop:\n",
        "            G.add_node(token.lemma_, pos=token.pos_)\n",
        "            for child in token.children:\n",
        "                if child.pos_ in ['NOUN', 'ADJ', 'ADV'] and not child.is_stop:\n",
        "                    G.add_node(child.lemma_, pos=child.pos_)\n",
        "                    G.add_edge(token.lemma_, child.lemma_, relation=child.dep_)\n",
        "\n",
        "    # Example: Print the graph structure for the first title\n",
        "    print(\"Graph for abstract:\", abstract)\n",
        "    print(\"Nodes:\", G.nodes(data=True))\n",
        "    print(\"Edges:\", G.edges(data=True))\n",
        "    break  # Remove or modify this based on your needs\n"
      ]
    },
    {
      "cell_type": "code",
      "source": [],
      "metadata": {
        "id": "nPM3PRbK9v-o"
      },
      "id": "nPM3PRbK9v-o",
      "execution_count": null,
      "outputs": []
    },
    {
      "cell_type": "code",
      "source": [
        "'''\n",
        "Offers comprehensive preprocessing using NLTK and SpaCy, checks dataset integrity, and sets up a detailed pipeline for text processing\n",
        "and analysis without visualization. It's the most complex and thorough, aimed at deep linguistic analysis and preprocessing.\n",
        "'''\n",
        "\n",
        "# Necessary Imports\n",
        "import pandas as pd\n",
        "import nltk\n",
        "from nltk.corpus import stopwords\n",
        "from nltk.stem import WordNetLemmatizer\n",
        "from nltk import pos_tag\n",
        "import re\n",
        "from google.colab import drive\n",
        "import spacy\n",
        "from transformers import pipeline\n",
        "import networkx as nx\n",
        "\n",
        "# NLTK Data Download\n",
        "nltk.download('punkt')\n",
        "nltk.download('stopwords')\n",
        "nltk.download('wordnet')\n",
        "nltk.download('averaged_perceptron_tagger')\n",
        "\n",
        "# Mount Google Drive\n",
        "drive.mount('/content/drive', force_remount=True)\n",
        "\n",
        "# Load Dataset\n",
        "file_path = '/content/drive/My Drive/CV.csv'\n",
        "data = pd.read_csv(file_path)\n",
        "\n",
        "\n",
        "column_name = 'abstract'\n",
        "if column_name not in data.columns:\n",
        "    raise ValueError(f\"The column '{column_name}' does not exist in the dataset.\")\n",
        "\n",
        "# NLTK Preprocessing Setup\n",
        "stop_words = set(stopwords.words('english'))\n",
        "lemmatizer = WordNetLemmatizer()\n",
        "\n",
        "def preprocess(text):\n",
        "    text = text.lower()\n",
        "    text = re.sub(r'\\W', ' ', text)\n",
        "    tokens = nltk.word_tokenize(text)\n",
        "    tokens = [lemmatizer.lemmatize(word) for word in tokens if word not in stop_words]\n",
        "    pos_tags = pos_tag(tokens)\n",
        "    return \" \".join(tokens), pos_tags\n",
        "\n",
        "# Load SpaCy NLP model for additional NLP tasks\n",
        "nlp = spacy.load('en_core_web_sm')\n",
        "\n",
        "# Initialize NER pipeline with BERT model from Transformers\n",
        "nlp_transformer = pipeline(\"ner\", model=\"bert-base-uncased\")\n",
        "\n",
        "# Processing abstracts (or the specified column)\n",
        "for index, row in data.head(10).iterrows():  # Example: Process the first 10 entries\n",
        "    abstract = row[column_name]\n",
        "    preprocessed_text, _ = preprocess(abstract)\n",
        "\n",
        "    # SpaCy Document Processing (Optional here as BERT might need the full context)\n",
        "    doc = nlp(preprocessed_text)\n",
        "    simple_text = \" \".join([token.text for token in doc])\n",
        "\n",
        "    # NER with BERT\n",
        "    entities = nlp_transformer(simple_text)\n",
        "\n",
        "    # Graph Representation with NetworkX\n",
        "    G = nx.DiGraph()\n",
        "    for entity in entities:\n",
        "        if entity['entity'] not in G:\n",
        "            G.add_node(entity['word'], type=entity['entity'])\n",
        "\n",
        "    # Example output for demonstration\n",
        "    print(f\"Graph for Abstract {index+1}:\")\n",
        "    print(\"Nodes:\", G.nodes(data=True))\n",
        "    print(\"\\n\")\n",
        "\n",
        "    # Break after the first abstract to keep the output manageable\n",
        "    break\n"
      ],
      "metadata": {
        "colab": {
          "base_uri": "https://localhost:8080/"
        },
        "id": "7Rcv7uNS75zs",
        "outputId": "c54ab02c-f42d-4c33-b247-9ce06d799e3a"
      },
      "id": "7Rcv7uNS75zs",
      "execution_count": null,
      "outputs": [
        {
          "output_type": "stream",
          "name": "stderr",
          "text": [
            "[nltk_data] Downloading package punkt to /root/nltk_data...\n",
            "[nltk_data]   Package punkt is already up-to-date!\n",
            "[nltk_data] Downloading package stopwords to /root/nltk_data...\n",
            "[nltk_data]   Package stopwords is already up-to-date!\n",
            "[nltk_data] Downloading package wordnet to /root/nltk_data...\n",
            "[nltk_data]   Package wordnet is already up-to-date!\n",
            "[nltk_data] Downloading package averaged_perceptron_tagger to\n",
            "[nltk_data]     /root/nltk_data...\n",
            "[nltk_data]   Package averaged_perceptron_tagger is already up-to-\n",
            "[nltk_data]       date!\n"
          ]
        },
        {
          "output_type": "stream",
          "name": "stdout",
          "text": [
            "Mounted at /content/drive\n"
          ]
        },
        {
          "output_type": "stream",
          "name": "stderr",
          "text": [
            "Some weights of BertForTokenClassification were not initialized from the model checkpoint at bert-base-uncased and are newly initialized: ['classifier.bias', 'classifier.weight']\n",
            "You should probably TRAIN this model on a down-stream task to be able to use it for predictions and inference.\n"
          ]
        },
        {
          "output_type": "stream",
          "name": "stdout",
          "text": [
            "Graph for Abstract 1:\n",
            "Nodes: [('huge', {'type': 'LABEL_1'}), ('amount', {'type': 'LABEL_1'}), ('historical', {'type': 'LABEL_0'}), ('document', {'type': 'LABEL_0'}), ('library', {'type': 'LABEL_0'}), ('various', {'type': 'LABEL_0'}), ('national', {'type': 'LABEL_0'}), ('archive', {'type': 'LABEL_0'}), ('exploited', {'type': 'LABEL_0'}), ('electronically', {'type': 'LABEL_0'}), ('although', {'type': 'LABEL_1'}), ('automatic', {'type': 'LABEL_0'}), ('reading', {'type': 'LABEL_0'}), ('complete', {'type': 'LABEL_0'}), ('page', {'type': 'LABEL_0'}), ('remains', {'type': 'LABEL_0'}), ('case', {'type': 'LABEL_0'}), ('long', {'type': 'LABEL_1'}), ('term', {'type': 'LABEL_1'}), ('objective', {'type': 'LABEL_0'}), ('task', {'type': 'LABEL_0'}), ('word', {'type': 'LABEL_0'}), ('spotting', {'type': 'LABEL_0'}), ('text', {'type': 'LABEL_0'}), ('image', {'type': 'LABEL_0'}), ('alignment', {'type': 'LABEL_1'}), ('authentication', {'type': 'LABEL_0'}), ('extraction', {'type': 'LABEL_0'}), ('specific', {'type': 'LABEL_0'}), ('field', {'type': 'LABEL_1'}), ('use', {'type': 'LABEL_1'}), ('today', {'type': 'LABEL_0'}), ('major', {'type': 'LABEL_0'}), ('step', {'type': 'LABEL_0'}), ('segment', {'type': 'LABEL_0'}), ('##ation', {'type': 'LABEL_0'}), ('line', {'type': 'LABEL_0'}), ('low', {'type': 'LABEL_0'}), ('quality', {'type': 'LABEL_0'}), ('complexity', {'type': 'LABEL_0'}), ('background', {'type': 'LABEL_1'}), ('noise', {'type': 'LABEL_1'}), ('artifact', {'type': 'LABEL_1'}), ('due', {'type': 'LABEL_1'}), ('aging', {'type': 'LABEL_1'}), ('interfering', {'type': 'LABEL_0'}), ('open', {'type': 'LABEL_0'}), ('research', {'type': 'LABEL_0'}), ('paper', {'type': 'LABEL_0'}), ('present', {'type': 'LABEL_0'}), ('survey', {'type': 'LABEL_0'}), ('existing', {'type': 'LABEL_1'}), ('method', {'type': 'LABEL_0'}), ('developed', {'type': 'LABEL_1'}), ('last', {'type': 'LABEL_1'}), ('decade', {'type': 'LABEL_0'}), ('dedicated', {'type': 'LABEL_0'}), ('interest', {'type': 'LABEL_1'})]\n",
            "\n",
            "\n"
          ]
        }
      ]
    },
    {
      "cell_type": "code",
      "execution_count": null,
      "id": "3a287f60",
      "metadata": {
        "id": "3a287f60"
      },
      "outputs": [],
      "source": []
    },
    {
      "cell_type": "code",
      "source": [
        "'''\n",
        "\n",
        "Simplifies the process by skipping detailed preprocessing and directly using SpaCy for NER, then constructing a graph of entities.\n",
        "It focuses on structure rather than visualization, making it straightforward and more focused than the Above code.\n",
        "\n",
        "'''\n",
        "\n",
        "from transformers import pipeline\n",
        "import spacy\n",
        "import networkx as nx\n",
        "\n",
        "# Load Spacy NLP model\n",
        "nlp = spacy.load('en_core_web_sm')\n",
        "\n",
        "# Initialize NER pipeline with BERT model\n",
        "nlp_transformer = pipeline(\"ner\", model=\"bert-base-uncased\")\n",
        "\n",
        "# Assuming 'data' is a DataFrame and 'abstract' is a column with text data\n",
        "# Process the first 10 abstracts\n",
        "abstracts = data['abstract'].head(10).tolist()\n",
        "\n",
        "# Preprocess and analyze each abstract\n",
        "for abstract in abstracts:\n",
        "    G = nx.DiGraph()\n",
        "\n",
        "    # Preprocessing with Spacy\n",
        "    # Note: For NER using BERT, you might not want to remove stopwords or lemmatize as BERT benefits from the full context\n",
        "    doc = nlp(abstract)\n",
        "\n",
        "    # Convert Spacy Doc to simple text, as the Transformers pipeline expects raw text.\n",
        "    # This step is where you might further preprocess, but here we're keeping it simple.\n",
        "    simple_text = \" \".join([token.text for token in doc])\n",
        "\n",
        "    # Named Entity Recognition with BERT\n",
        "    entities = nlp_transformer(simple_text)\n",
        "\n",
        "    # Add entities as nodes in the graph\n",
        "    for ent in entities:\n",
        "        G.add_node(ent['word'], type=ent['entity'])\n",
        "\n",
        "    # Example: Print the graph structure for the first abstract\n",
        "    print(\"Graph for abstract:\", abstract)\n",
        "    print(\"Nodes:\", G.nodes(data=True))\n",
        "\n",
        "    # Stop after the first abstract for demonstration purposes\n",
        "    break\n"
      ],
      "metadata": {
        "colab": {
          "base_uri": "https://localhost:8080/"
        },
        "id": "Buow1mD64Qgu",
        "outputId": "549e0154-ae6d-4a30-84ed-b01c459063fb"
      },
      "id": "Buow1mD64Qgu",
      "execution_count": null,
      "outputs": [
        {
          "output_type": "stream",
          "name": "stderr",
          "text": [
            "Some weights of BertForTokenClassification were not initialized from the model checkpoint at bert-base-uncased and are newly initialized: ['classifier.bias', 'classifier.weight']\n",
            "You should probably TRAIN this model on a down-stream task to be able to use it for predictions and inference.\n"
          ]
        },
        {
          "output_type": "stream",
          "name": "stdout",
          "text": [
            "Graph for abstract:   There is a huge amount of historical documents in libraries and in various\n",
            "National Archives that have not been exploited electronically. Although\n",
            "automatic reading of complete pages remains, in most cases, a long-term\n",
            "objective, tasks such as word spotting, text/image alignment, authentication\n",
            "and extraction of specific fields are in use today. For all these tasks, a\n",
            "major step is document segmentation into text lines. Because of the low quality\n",
            "and the complexity of these documents (background noise, artifacts due to\n",
            "aging, interfering lines),automatic text line segmentation remains an open\n",
            "research field. The objective of this paper is to present a survey of existing\n",
            "methods, developed during the last decade, and dedicated to documents of\n",
            "historical interest.\n",
            "\n",
            "Nodes: [('there', {'type': 'LABEL_1'}), ('is', {'type': 'LABEL_0'}), ('a', {'type': 'LABEL_0'}), ('huge', {'type': 'LABEL_0'}), ('amount', {'type': 'LABEL_0'}), ('of', {'type': 'LABEL_0'}), ('historical', {'type': 'LABEL_1'}), ('documents', {'type': 'LABEL_0'}), ('in', {'type': 'LABEL_0'}), ('libraries', {'type': 'LABEL_1'}), ('and', {'type': 'LABEL_0'}), ('various', {'type': 'LABEL_0'}), ('national', {'type': 'LABEL_1'}), ('archives', {'type': 'LABEL_0'}), ('that', {'type': 'LABEL_0'}), ('have', {'type': 'LABEL_0'}), ('not', {'type': 'LABEL_0'}), ('been', {'type': 'LABEL_0'}), ('exploited', {'type': 'LABEL_0'}), ('electronically', {'type': 'LABEL_1'}), ('.', {'type': 'LABEL_1'}), ('although', {'type': 'LABEL_1'}), ('automatic', {'type': 'LABEL_0'}), ('reading', {'type': 'LABEL_0'}), ('complete', {'type': 'LABEL_0'}), ('pages', {'type': 'LABEL_0'}), ('remains', {'type': 'LABEL_0'}), (',', {'type': 'LABEL_0'}), ('most', {'type': 'LABEL_0'}), ('cases', {'type': 'LABEL_1'}), ('long', {'type': 'LABEL_1'}), ('-', {'type': 'LABEL_1'}), ('term', {'type': 'LABEL_1'}), ('objective', {'type': 'LABEL_0'}), ('tasks', {'type': 'LABEL_0'}), ('such', {'type': 'LABEL_0'}), ('as', {'type': 'LABEL_0'}), ('word', {'type': 'LABEL_0'}), ('spotting', {'type': 'LABEL_0'}), ('text', {'type': 'LABEL_1'}), ('/', {'type': 'LABEL_0'}), ('image', {'type': 'LABEL_0'}), ('alignment', {'type': 'LABEL_0'}), ('authentication', {'type': 'LABEL_1'}), ('extraction', {'type': 'LABEL_0'}), ('specific', {'type': 'LABEL_0'}), ('fields', {'type': 'LABEL_0'}), ('are', {'type': 'LABEL_0'}), ('use', {'type': 'LABEL_0'}), ('today', {'type': 'LABEL_1'}), ('for', {'type': 'LABEL_1'}), ('all', {'type': 'LABEL_0'}), ('these', {'type': 'LABEL_0'}), ('major', {'type': 'LABEL_0'}), ('step', {'type': 'LABEL_0'}), ('document', {'type': 'LABEL_0'}), ('segment', {'type': 'LABEL_0'}), ('##ation', {'type': 'LABEL_1'}), ('into', {'type': 'LABEL_0'}), ('lines', {'type': 'LABEL_0'}), ('because', {'type': 'LABEL_1'}), ('the', {'type': 'LABEL_1'}), ('low', {'type': 'LABEL_0'}), ('quality', {'type': 'LABEL_0'}), ('complexity', {'type': 'LABEL_0'}), ('(', {'type': 'LABEL_0'}), ('background', {'type': 'LABEL_0'}), ('noise', {'type': 'LABEL_0'}), ('artifacts', {'type': 'LABEL_0'}), ('due', {'type': 'LABEL_0'}), ('to', {'type': 'LABEL_1'}), ('aging', {'type': 'LABEL_0'}), ('interfering', {'type': 'LABEL_0'}), (')', {'type': 'LABEL_0'}), ('line', {'type': 'LABEL_0'}), ('an', {'type': 'LABEL_1'}), ('open', {'type': 'LABEL_1'}), ('research', {'type': 'LABEL_0'}), ('field', {'type': 'LABEL_0'}), ('this', {'type': 'LABEL_0'}), ('paper', {'type': 'LABEL_0'}), ('present', {'type': 'LABEL_1'}), ('survey', {'type': 'LABEL_1'}), ('existing', {'type': 'LABEL_1'}), ('methods', {'type': 'LABEL_0'}), ('developed', {'type': 'LABEL_0'}), ('during', {'type': 'LABEL_1'}), ('last', {'type': 'LABEL_1'}), ('decade', {'type': 'LABEL_1'}), ('dedicated', {'type': 'LABEL_1'}), ('interest', {'type': 'LABEL_1'})]\n"
          ]
        }
      ]
    },
    {
      "cell_type": "code",
      "source": [],
      "metadata": {
        "id": "TiJrJIjQcU6T"
      },
      "id": "TiJrJIjQcU6T",
      "execution_count": null,
      "outputs": []
    },
    {
      "cell_type": "code",
      "source": [
        "'''\n",
        "This code performs extractive text summarization on a given text using natural language processing (NLP) techniques. It mounts my Google Drive\n",
        "to access the dataset, preprocesses the text into sentences, constructs a TF-IDF matrix for vector representation, builds a graph based on\n",
        "cosine similarity between sentence vectors, and then applies the PageRank algorithm to rank the sentences by importance. Finally,\n",
        "it selects the top sentences for the summary and prints each sentence neatly on a new line. This approach combines several NLP methods\n",
        "to automate the summarization process and facilitate the understanding of key content within a larger body of text.\n",
        "\n",
        "'''\n",
        "# Step 1: Mount Google Drive\n",
        "from google.colab import drive\n",
        "drive.mount('/content/drive')\n",
        "\n",
        "import pandas as pd\n",
        "import numpy as np\n",
        "from sklearn.feature_extraction.text import TfidfVectorizer\n",
        "from sklearn.metrics.pairwise import cosine_similarity\n",
        "import networkx as nx\n",
        "from nltk.tokenize import sent_tokenize\n",
        "import nltk\n",
        "\n",
        "# Ensure NLTK resources are downloaded\n",
        "nltk.download('punkt')\n",
        "\n",
        "# Step 2: Load the Dataset\n",
        "file_path = '/content/drive/My Drive/CV.csv'\n",
        "data = pd.read_csv(file_path)\n",
        "\n",
        "# Step 3: Preprocess the Text\n",
        "def preprocess_text(text):\n",
        "    sentences = sent_tokenize(text)\n",
        "    print(\"Processed Sentences:\", sentences)\n",
        "    return sentences\n",
        "\n",
        "# Step 4: Create TF-IDF Matrix\n",
        "def create_tfidf_matrix(sentences):\n",
        "    vectorizer = TfidfVectorizer()\n",
        "    tfidf_matrix = vectorizer.fit_transform(sentences)\n",
        "    print(\"TF-IDF Matrix Shape:\", tfidf_matrix.shape)\n",
        "    return tfidf_matrix\n",
        "\n",
        "# Step 5: Build the Similarity Graph\n",
        "def build_similarity_graph(tfidf_matrix):\n",
        "    cosine_sim_matrix = cosine_similarity(tfidf_matrix)\n",
        "    graph = nx.from_numpy_array(cosine_sim_matrix)\n",
        "    return graph\n",
        "\n",
        "# Step 6: Apply PageRank to Rank Sentences - Fixed to include sentences as an argument\n",
        "def rank_sentences(graph, sentences):\n",
        "    pagerank_scores = nx.pagerank(graph)\n",
        "    print(\"PageRank Scores:\", pagerank_scores)\n",
        "    ranked_sentences = sorted(((pagerank_scores[i], s) for i, s in enumerate(sentences)), reverse=True)\n",
        "    return ranked_sentences\n",
        "\n",
        "# Step 7: Generate Summary\n",
        "def generate_summary(text, summary_length=5):\n",
        "    sentences = preprocess_text(text)\n",
        "    tfidf_matrix = create_tfidf_matrix(sentences)\n",
        "    graph = build_similarity_graph(tfidf_matrix)\n",
        "    ranked_sentences = rank_sentences(graph, sentences)  # Pass sentences here\n",
        "    summary_sentences = [sentence for _, sentence in ranked_sentences[:summary_length]]\n",
        "    summary = \" \".join(summary_sentences)\n",
        "    return summary\n",
        "\n",
        "\n",
        "example_text = data.iloc[0]['abstract']\n",
        "#example_text = \"The paper outlines the integration of graph theory with advanced NLP techniques to represent text as graphs, thereby capturing semantic relationships within. Through experimentation with the Arxiv-Papers dataset, the authors aim to enhance machine-generated summaries and deepen the understanding of semantic networks in summarization. The methodology includes data collection and preprocessing, graph construction, sentence ranking and selection, followed by a comprehensive evaluation. The paper emphasizes the importance of improving text summarization for knowledge discovery and content management, proposing a method that promises to advance the current state of automated reporting and summarization.\"\n",
        "summary = generate_summary(example_text, summary_length=5)\n",
        "\n",
        "summary_sentences = summary.split('. ')\n",
        "\n",
        "print(\"Summary:\")\n",
        "for sentence in summary_sentences:\n",
        "    print(sentence)\n",
        "\n"
      ],
      "metadata": {
        "colab": {
          "base_uri": "https://localhost:8080/"
        },
        "id": "xaJNnHA3PWpZ",
        "outputId": "ddce60f3-44b9-4c20-9998-ef5de549365b"
      },
      "id": "xaJNnHA3PWpZ",
      "execution_count": null,
      "outputs": [
        {
          "output_type": "stream",
          "name": "stdout",
          "text": [
            "Drive already mounted at /content/drive; to attempt to forcibly remount, call drive.mount(\"/content/drive\", force_remount=True).\n"
          ]
        },
        {
          "output_type": "stream",
          "name": "stderr",
          "text": [
            "[nltk_data] Downloading package punkt to /root/nltk_data...\n",
            "[nltk_data]   Package punkt is already up-to-date!\n"
          ]
        },
        {
          "output_type": "stream",
          "name": "stdout",
          "text": [
            "Processed Sentences: ['  There is a huge amount of historical documents in libraries and in various\\nNational Archives that have not been exploited electronically.', 'Although\\nautomatic reading of complete pages remains, in most cases, a long-term\\nobjective, tasks such as word spotting, text/image alignment, authentication\\nand extraction of specific fields are in use today.', 'For all these tasks, a\\nmajor step is document segmentation into text lines.', 'Because of the low quality\\nand the complexity of these documents (background noise, artifacts due to\\naging, interfering lines),automatic text line segmentation remains an open\\nresearch field.', 'The objective of this paper is to present a survey of existing\\nmethods, developed during the last decade, and dedicated to documents of\\nhistorical interest.']\n",
            "TF-IDF Matrix Shape: (5, 83)\n",
            "PageRank Scores: {0: 0.1929023697678004, 1: 0.19928418975686055, 2: 0.1844951875940709, 3: 0.21587746888982093, 4: 0.20744078399144666}\n",
            "Summary:\n",
            "Because of the low quality\n",
            "and the complexity of these documents (background noise, artifacts due to\n",
            "aging, interfering lines),automatic text line segmentation remains an open\n",
            "research field\n",
            "The objective of this paper is to present a survey of existing\n",
            "methods, developed during the last decade, and dedicated to documents of\n",
            "historical interest\n",
            "Although\n",
            "automatic reading of complete pages remains, in most cases, a long-term\n",
            "objective, tasks such as word spotting, text/image alignment, authentication\n",
            "and extraction of specific fields are in use today\n",
            "  There is a huge amount of historical documents in libraries and in various\n",
            "National Archives that have not been exploited electronically\n",
            "For all these tasks, a\n",
            "major step is document segmentation into text lines.\n"
          ]
        }
      ]
    },
    {
      "cell_type": "code",
      "source": [
        "# Step 1: Setup and Data Loading\n",
        "\n",
        "# Mount Google Drive\n",
        "from google.colab import drive\n",
        "drive.mount('/content/drive')\n",
        "\n",
        "# Import pandas for data manipulation\n",
        "import pandas as pd\n",
        "\n",
        "# Define the path to your dataset\n",
        "file_path = '/content/drive/My Drive/CV.csv'\n",
        "\n",
        "# Load the dataset into a DataFrame\n",
        "data = pd.read_csv(file_path)\n",
        "\n",
        "# Select the first abstract\n",
        "first_abstract = data['abstract'][0]\n",
        "print(\"First Abstract:\", first_abstract)\n"
      ],
      "metadata": {
        "id": "6rhCoZ6cTFy6",
        "colab": {
          "base_uri": "https://localhost:8080/"
        },
        "outputId": "48b6af13-12fe-4c89-cf3b-587df7c35e5c"
      },
      "id": "6rhCoZ6cTFy6",
      "execution_count": null,
      "outputs": [
        {
          "output_type": "stream",
          "name": "stdout",
          "text": [
            "Drive already mounted at /content/drive; to attempt to forcibly remount, call drive.mount(\"/content/drive\", force_remount=True).\n",
            "First Abstract:   There is a huge amount of historical documents in libraries and in various\n",
            "National Archives that have not been exploited electronically. Although\n",
            "automatic reading of complete pages remains, in most cases, a long-term\n",
            "objective, tasks such as word spotting, text/image alignment, authentication\n",
            "and extraction of specific fields are in use today. For all these tasks, a\n",
            "major step is document segmentation into text lines. Because of the low quality\n",
            "and the complexity of these documents (background noise, artifacts due to\n",
            "aging, interfering lines),automatic text line segmentation remains an open\n",
            "research field. The objective of this paper is to present a survey of existing\n",
            "methods, developed during the last decade, and dedicated to documents of\n",
            "historical interest.\n",
            "\n"
          ]
        }
      ]
    },
    {
      "cell_type": "code",
      "source": [
        "# Step 2: Data Preprocessing\n",
        "\n",
        "# Import NLTK for text processing\n",
        "import nltk\n",
        "from nltk.tokenize import sent_tokenize, word_tokenize\n",
        "from nltk.corpus import stopwords\n",
        "from nltk.stem import WordNetLemmatizer\n",
        "\n",
        "# Download necessary NLTK resources\n",
        "nltk.download('punkt')\n",
        "nltk.download('stopwords')\n",
        "nltk.download('wordnet')\n",
        "\n",
        "# Function to preprocess text data\n",
        "def preprocess_text(text):\n",
        "    stop_words = set(stopwords.words('english'))\n",
        "    lemmatizer = WordNetLemmatizer()\n",
        "\n",
        "    words = word_tokenize(text.lower())  # Tokenize and convert to lower case\n",
        "    filtered_words = [lemmatizer.lemmatize(word) for word in words if word.isalnum() and not word in stop_words]\n",
        "    return ' '.join(filtered_words)\n",
        "\n",
        "# Tokenize the first abstract into sentences\n",
        "sentences = sent_tokenize(first_abstract)\n",
        "\n",
        "# Preprocess each sentence\n",
        "processed_sentences = [preprocess_text(sentence) for sentence in sentences]\n",
        "print(\"Processed Sentences:\", processed_sentences)\n"
      ],
      "metadata": {
        "colab": {
          "base_uri": "https://localhost:8080/"
        },
        "id": "UK6QDAmeFEfd",
        "outputId": "ab7f6546-2ca8-48f3-b6d2-6406a808db28"
      },
      "id": "UK6QDAmeFEfd",
      "execution_count": null,
      "outputs": [
        {
          "output_type": "stream",
          "name": "stderr",
          "text": [
            "[nltk_data] Downloading package punkt to /root/nltk_data...\n",
            "[nltk_data]   Package punkt is already up-to-date!\n",
            "[nltk_data] Downloading package stopwords to /root/nltk_data...\n",
            "[nltk_data]   Package stopwords is already up-to-date!\n",
            "[nltk_data] Downloading package wordnet to /root/nltk_data...\n"
          ]
        },
        {
          "output_type": "stream",
          "name": "stdout",
          "text": [
            "Processed Sentences: ['huge amount historical document library various national archive exploited electronically', 'although automatic reading complete page remains case objective task word spotting alignment authentication extraction specific field use today', 'task major step document segmentation text line', 'low quality complexity document background noise artifact due aging interfering line automatic text line segmentation remains open research field', 'objective paper present survey existing method developed last decade dedicated document historical interest']\n"
          ]
        },
        {
          "output_type": "stream",
          "name": "stderr",
          "text": [
            "[nltk_data]   Package wordnet is already up-to-date!\n"
          ]
        }
      ]
    },
    {
      "cell_type": "code",
      "source": [
        "# Step 3: Graph Construction\n",
        "\n",
        "# Import libraries for vectorization and graph construction\n",
        "from sklearn.feature_extraction.text import TfidfVectorizer\n",
        "from sklearn.metrics.pairwise import cosine_similarity\n",
        "import networkx as nx\n",
        "\n",
        "# Vectorize the preprocessed sentences\n",
        "vectorizer = TfidfVectorizer()\n",
        "tfidf_matrix = vectorizer.fit_transform(processed_sentences)\n",
        "\n",
        "# Compute cosine similarity matrix\n",
        "cosine_sim = cosine_similarity(tfidf_matrix)\n",
        "\n",
        "# Build the graph\n",
        "G = nx.Graph()\n",
        "for i in range(len(cosine_sim)):\n",
        "    for j in range(i + 1, len(cosine_sim)):\n",
        "        if cosine_sim[i, j] > 0.1:  # Lower threshold since it's within a single document\n",
        "            G.add_edge(i, j, weight=cosine_sim[i, j])\n",
        "\n",
        "\n",
        "\n",
        "# Verify the graph by printing some information\n",
        "print(\"Number of nodes:\", G.number_of_nodes())\n",
        "print(\"Number of edges:\", G.number_of_edges())\n"
      ],
      "metadata": {
        "colab": {
          "base_uri": "https://localhost:8080/"
        },
        "id": "O0Qk2ulRFUh3",
        "outputId": "9b10d193-230d-4651-a786-16e591c8da4f"
      },
      "id": "O0Qk2ulRFUh3",
      "execution_count": null,
      "outputs": [
        {
          "output_type": "stream",
          "name": "stdout",
          "text": [
            "Number of nodes: 3\n",
            "Number of edges: 2\n"
          ]
        }
      ]
    },
    {
      "cell_type": "code",
      "source": [
        "# Step 4: Sentence Ranking Using PageRank\n",
        "\n",
        "import networkx as nx\n",
        "\n",
        "# Assuming 'G' is your graph and 'sentences' is your list of sentences\n",
        "\n",
        "# Apply PageRank to the graph\n",
        "pagerank_scores = nx.pagerank(G, weight='weight')\n",
        "\n",
        "# Sort sentences based on their PageRank scores\n",
        "top_sentence_indices = sorted(pagerank_scores, key=pagerank_scores.get, reverse=True)\n",
        "\n",
        "# Create a single string from the top-ranked sentences\n",
        "top_sentences = ' '.join([sentences[idx] for idx in top_sentence_indices])\n",
        "\n",
        "# Print top-ranked sentences in one line\n",
        "print(\"Summary:\", top_sentences)\n"
      ],
      "metadata": {
        "colab": {
          "base_uri": "https://localhost:8080/"
        },
        "id": "DjBc9yXhF5zM",
        "outputId": "5eb80cfb-eaa3-4cbe-f2f9-e952ea3473c7"
      },
      "id": "DjBc9yXhF5zM",
      "execution_count": null,
      "outputs": [
        {
          "output_type": "stream",
          "name": "stdout",
          "text": [
            "Summary: Because of the low quality\n",
            "and the complexity of these documents (background noise, artifacts due to\n",
            "aging, interfering lines),automatic text line segmentation remains an open\n",
            "research field. For all these tasks, a\n",
            "major step is document segmentation into text lines. Although\n",
            "automatic reading of complete pages remains, in most cases, a long-term\n",
            "objective, tasks such as word spotting, text/image alignment, authentication\n",
            "and extraction of specific fields are in use today.\n"
          ]
        }
      ]
    },
    {
      "cell_type": "code",
      "source": [
        "# Install the rouge library if it's not already installed\n",
        "!pip install rouge\n"
      ],
      "metadata": {
        "colab": {
          "base_uri": "https://localhost:8080/"
        },
        "id": "4z7zJcEnN0VB",
        "outputId": "1b8ba3f5-2e9a-44f0-d12d-87d3e010448c"
      },
      "id": "4z7zJcEnN0VB",
      "execution_count": null,
      "outputs": [
        {
          "output_type": "stream",
          "name": "stdout",
          "text": [
            "Collecting rouge\n",
            "  Downloading rouge-1.0.1-py3-none-any.whl (13 kB)\n",
            "Requirement already satisfied: six in /usr/local/lib/python3.10/dist-packages (from rouge) (1.16.0)\n",
            "Installing collected packages: rouge\n",
            "Successfully installed rouge-1.0.1\n"
          ]
        }
      ]
    },
    {
      "cell_type": "code",
      "source": [
        "# Step 5: Evaluation with ROUGE\n",
        "\n",
        "# Import the Rouge library for evaluation\n",
        "from rouge import Rouge\n",
        "\n",
        "\n",
        "reference_summary = \"There is a huge amount of historical documents in libraries and in various National Archives that have not been exploited electronically. Although automatic reading of complete pages remains, in most cases, a long-term objective, tasks such as word spotting, text/image alignment, authentication and extraction of specific fields are in use today. For all these tasks, a major step is document segmentation into text lines. Because of the low quality and the complexity of these documents (background noise, artifacts due to aging, interfering lines),automatic text line segmentation remains an open research field. The objective of this paper is to present a survey of existing methods, developed during the last decade, and dedicated to documents of historical interest\"\n",
        "generated_summary = ' '.join([sentences[idx] for idx in top_sentence_indices[:3]])\n",
        "# Initialize the Rouge object\n",
        "rouge = Rouge()\n",
        "\n",
        "# Compute the ROUGE scores\n",
        "scores = rouge.get_scores(generated_summary, reference_summary)  # Pass reference_summary directly as a string\n",
        "\n",
        "# Print out the ROUGE scores\n",
        "print(\"ROUGE Scores:\", scores)\n"
      ],
      "metadata": {
        "colab": {
          "base_uri": "https://localhost:8080/"
        },
        "id": "rv6PqXjWF9h6",
        "outputId": "5ceb45ba-2fcc-4fed-97af-f9764baa9bea"
      },
      "id": "rv6PqXjWF9h6",
      "execution_count": null,
      "outputs": [
        {
          "output_type": "stream",
          "name": "stdout",
          "text": [
            "ROUGE Scores: [{'rouge-1': {'r': 0.6818181818181818, 'p': 1.0, 'f': 0.8108108059897736}, 'rouge-2': {'r': 0.5877192982456141, 'p': 0.9710144927536232, 'f': 0.732240432460808}, 'rouge-l': {'r': 0.6818181818181818, 'p': 1.0, 'f': 0.8108108059897736}}]\n"
          ]
        }
      ]
    },
    {
      "cell_type": "code",
      "source": [
        "!pip install bert_score"
      ],
      "metadata": {
        "colab": {
          "base_uri": "https://localhost:8080/"
        },
        "id": "cu4tNTzqQ7U3",
        "outputId": "e1a4e147-2045-4034-e53d-d802f0e2ce18"
      },
      "id": "cu4tNTzqQ7U3",
      "execution_count": null,
      "outputs": [
        {
          "output_type": "stream",
          "name": "stdout",
          "text": [
            "Requirement already satisfied: bert_score in /usr/local/lib/python3.10/dist-packages (0.3.13)\n",
            "Requirement already satisfied: torch>=1.0.0 in /usr/local/lib/python3.10/dist-packages (from bert_score) (2.2.1+cu121)\n",
            "Requirement already satisfied: pandas>=1.0.1 in /usr/local/lib/python3.10/dist-packages (from bert_score) (2.0.3)\n",
            "Requirement already satisfied: transformers>=3.0.0 in /usr/local/lib/python3.10/dist-packages (from bert_score) (4.40.1)\n",
            "Requirement already satisfied: numpy in /usr/local/lib/python3.10/dist-packages (from bert_score) (1.25.2)\n",
            "Requirement already satisfied: requests in /usr/local/lib/python3.10/dist-packages (from bert_score) (2.31.0)\n",
            "Requirement already satisfied: tqdm>=4.31.1 in /usr/local/lib/python3.10/dist-packages (from bert_score) (4.66.2)\n",
            "Requirement already satisfied: matplotlib in /usr/local/lib/python3.10/dist-packages (from bert_score) (3.7.1)\n",
            "Requirement already satisfied: packaging>=20.9 in /usr/local/lib/python3.10/dist-packages (from bert_score) (24.0)\n",
            "Requirement already satisfied: python-dateutil>=2.8.2 in /usr/local/lib/python3.10/dist-packages (from pandas>=1.0.1->bert_score) (2.8.2)\n",
            "Requirement already satisfied: pytz>=2020.1 in /usr/local/lib/python3.10/dist-packages (from pandas>=1.0.1->bert_score) (2023.4)\n",
            "Requirement already satisfied: tzdata>=2022.1 in /usr/local/lib/python3.10/dist-packages (from pandas>=1.0.1->bert_score) (2024.1)\n",
            "Requirement already satisfied: filelock in /usr/local/lib/python3.10/dist-packages (from torch>=1.0.0->bert_score) (3.14.0)\n",
            "Requirement already satisfied: typing-extensions>=4.8.0 in /usr/local/lib/python3.10/dist-packages (from torch>=1.0.0->bert_score) (4.11.0)\n",
            "Requirement already satisfied: sympy in /usr/local/lib/python3.10/dist-packages (from torch>=1.0.0->bert_score) (1.12)\n",
            "Requirement already satisfied: networkx in /usr/local/lib/python3.10/dist-packages (from torch>=1.0.0->bert_score) (3.3)\n",
            "Requirement already satisfied: jinja2 in /usr/local/lib/python3.10/dist-packages (from torch>=1.0.0->bert_score) (3.1.3)\n",
            "Requirement already satisfied: fsspec in /usr/local/lib/python3.10/dist-packages (from torch>=1.0.0->bert_score) (2023.6.0)\n",
            "Requirement already satisfied: nvidia-cuda-nvrtc-cu12==12.1.105 in /usr/local/lib/python3.10/dist-packages (from torch>=1.0.0->bert_score) (12.1.105)\n",
            "Requirement already satisfied: nvidia-cuda-runtime-cu12==12.1.105 in /usr/local/lib/python3.10/dist-packages (from torch>=1.0.0->bert_score) (12.1.105)\n",
            "Requirement already satisfied: nvidia-cuda-cupti-cu12==12.1.105 in /usr/local/lib/python3.10/dist-packages (from torch>=1.0.0->bert_score) (12.1.105)\n",
            "Requirement already satisfied: nvidia-cudnn-cu12==8.9.2.26 in /usr/local/lib/python3.10/dist-packages (from torch>=1.0.0->bert_score) (8.9.2.26)\n",
            "Requirement already satisfied: nvidia-cublas-cu12==12.1.3.1 in /usr/local/lib/python3.10/dist-packages (from torch>=1.0.0->bert_score) (12.1.3.1)\n",
            "Requirement already satisfied: nvidia-cufft-cu12==11.0.2.54 in /usr/local/lib/python3.10/dist-packages (from torch>=1.0.0->bert_score) (11.0.2.54)\n",
            "Requirement already satisfied: nvidia-curand-cu12==10.3.2.106 in /usr/local/lib/python3.10/dist-packages (from torch>=1.0.0->bert_score) (10.3.2.106)\n",
            "Requirement already satisfied: nvidia-cusolver-cu12==11.4.5.107 in /usr/local/lib/python3.10/dist-packages (from torch>=1.0.0->bert_score) (11.4.5.107)\n",
            "Requirement already satisfied: nvidia-cusparse-cu12==12.1.0.106 in /usr/local/lib/python3.10/dist-packages (from torch>=1.0.0->bert_score) (12.1.0.106)\n",
            "Requirement already satisfied: nvidia-nccl-cu12==2.19.3 in /usr/local/lib/python3.10/dist-packages (from torch>=1.0.0->bert_score) (2.19.3)\n",
            "Requirement already satisfied: nvidia-nvtx-cu12==12.1.105 in /usr/local/lib/python3.10/dist-packages (from torch>=1.0.0->bert_score) (12.1.105)\n",
            "Requirement already satisfied: triton==2.2.0 in /usr/local/lib/python3.10/dist-packages (from torch>=1.0.0->bert_score) (2.2.0)\n",
            "Requirement already satisfied: nvidia-nvjitlink-cu12 in /usr/local/lib/python3.10/dist-packages (from nvidia-cusolver-cu12==11.4.5.107->torch>=1.0.0->bert_score) (12.4.127)\n",
            "Requirement already satisfied: huggingface-hub<1.0,>=0.19.3 in /usr/local/lib/python3.10/dist-packages (from transformers>=3.0.0->bert_score) (0.20.3)\n",
            "Requirement already satisfied: pyyaml>=5.1 in /usr/local/lib/python3.10/dist-packages (from transformers>=3.0.0->bert_score) (6.0.1)\n",
            "Requirement already satisfied: regex!=2019.12.17 in /usr/local/lib/python3.10/dist-packages (from transformers>=3.0.0->bert_score) (2023.12.25)\n",
            "Requirement already satisfied: tokenizers<0.20,>=0.19 in /usr/local/lib/python3.10/dist-packages (from transformers>=3.0.0->bert_score) (0.19.1)\n",
            "Requirement already satisfied: safetensors>=0.4.1 in /usr/local/lib/python3.10/dist-packages (from transformers>=3.0.0->bert_score) (0.4.3)\n",
            "Requirement already satisfied: contourpy>=1.0.1 in /usr/local/lib/python3.10/dist-packages (from matplotlib->bert_score) (1.2.1)\n",
            "Requirement already satisfied: cycler>=0.10 in /usr/local/lib/python3.10/dist-packages (from matplotlib->bert_score) (0.12.1)\n",
            "Requirement already satisfied: fonttools>=4.22.0 in /usr/local/lib/python3.10/dist-packages (from matplotlib->bert_score) (4.51.0)\n",
            "Requirement already satisfied: kiwisolver>=1.0.1 in /usr/local/lib/python3.10/dist-packages (from matplotlib->bert_score) (1.4.5)\n",
            "Requirement already satisfied: pillow>=6.2.0 in /usr/local/lib/python3.10/dist-packages (from matplotlib->bert_score) (9.4.0)\n",
            "Requirement already satisfied: pyparsing>=2.3.1 in /usr/local/lib/python3.10/dist-packages (from matplotlib->bert_score) (3.1.2)\n",
            "Requirement already satisfied: charset-normalizer<4,>=2 in /usr/local/lib/python3.10/dist-packages (from requests->bert_score) (3.3.2)\n",
            "Requirement already satisfied: idna<4,>=2.5 in /usr/local/lib/python3.10/dist-packages (from requests->bert_score) (3.7)\n",
            "Requirement already satisfied: urllib3<3,>=1.21.1 in /usr/local/lib/python3.10/dist-packages (from requests->bert_score) (2.0.7)\n",
            "Requirement already satisfied: certifi>=2017.4.17 in /usr/local/lib/python3.10/dist-packages (from requests->bert_score) (2024.2.2)\n",
            "Requirement already satisfied: six>=1.5 in /usr/local/lib/python3.10/dist-packages (from python-dateutil>=2.8.2->pandas>=1.0.1->bert_score) (1.16.0)\n",
            "Requirement already satisfied: MarkupSafe>=2.0 in /usr/local/lib/python3.10/dist-packages (from jinja2->torch>=1.0.0->bert_score) (2.1.5)\n",
            "Requirement already satisfied: mpmath>=0.19 in /usr/local/lib/python3.10/dist-packages (from sympy->torch>=1.0.0->bert_score) (1.3.0)\n"
          ]
        }
      ]
    },
    {
      "cell_type": "code",
      "source": [
        "from bert_score import score\n",
        "\n",
        "# Reference summary as provided\n",
        "reference_summary = \"There is a huge amount of historical documents in libraries and in various National Archives that have not been exploited electronically. Although automatic reading of complete pages remains, in most cases, a long-term objective, tasks such as word spotting, text/image alignment, authentication and extraction of specific fields are in use today. For all these tasks, a major step is document segmentation into text lines. Because of the low quality and the complexity of these documents (background noise, artifacts due to aging, interfering lines),automatic text line segmentation remains an open research field. The objective of this paper is to present a survey of existing methods, developed during the last decade, and dedicated to documents of historical interest.\"\n",
        "\n",
        "# Generated summary, assuming 'sentences' is a list of sentences and 'top_sentence_indices' are the indices of the top sentences selected\n",
        "# This line is just an example, adjust it according to your real data or replace it with your actual generated summary\n",
        "generated_summary = ' '.join([sentences[idx] for idx in top_sentence_indices[:3]])\n",
        "\n",
        "# Calculate BERTScore\n",
        "P, R, F1 = score([generated_summary], [reference_summary], lang=\"en\")\n",
        "\n",
        "# Printing the BERTScore metrics\n",
        "print(\"BERTScore (Precision):\", P.item())\n",
        "print(\"BERTScore (Recall):\", R.item())\n",
        "print(\"BERTScore (F1 Score):\", F1.item())\n"
      ],
      "metadata": {
        "colab": {
          "base_uri": "https://localhost:8080/"
        },
        "id": "qeGQD7EQlqHO",
        "outputId": "26499c40-695f-4059-9016-856b4343631b"
      },
      "id": "qeGQD7EQlqHO",
      "execution_count": null,
      "outputs": [
        {
          "output_type": "stream",
          "name": "stderr",
          "text": [
            "Some weights of RobertaModel were not initialized from the model checkpoint at roberta-large and are newly initialized: ['roberta.pooler.dense.bias', 'roberta.pooler.dense.weight']\n",
            "You should probably TRAIN this model on a down-stream task to be able to use it for predictions and inference.\n"
          ]
        },
        {
          "output_type": "stream",
          "name": "stdout",
          "text": [
            "BERTScore (Precision): 0.9206584692001343\n",
            "BERTScore (Recall): 0.9019118547439575\n",
            "BERTScore (F1 Score): 0.9111887216567993\n"
          ]
        }
      ]
    },
    {
      "cell_type": "code",
      "source": [
        "import matplotlib.pyplot as plt\n",
        "import numpy as np\n",
        "# Updated ROUGE Scores Data from the latest information\n",
        "rouge_scores_latest = {\n",
        "    'ROUGE-1': {'f': 0.8108108059897736, 'p': 1.0, 'r': 0.6818181818181818},\n",
        "    'ROUGE-2': {'f': 0.732240432460808, 'p': 0.9710144927536232, 'r': 0.5877192982456141},\n",
        "    'ROUGE-L': {'f': 0.8108108059897736, 'p': 1.0, 'r': 0.6818181818181818}\n",
        "}\n",
        "\n",
        "# Updated BERTScores Data from the latest information\n",
        "bert_scores_latest = {\n",
        "    'Precision': 0.9206584692001343,\n",
        "    'Recall': 0.9019118547439575,\n",
        "    'F1 Score': 0.9111887216567993\n",
        "}\n",
        "\n",
        "# Create figure and axes for updated data\n",
        "fig, axs = plt.subplots(1, 2, figsize=(14, 6))\n",
        "\n",
        "# Figure title\n",
        "fig.suptitle('TF-IDF Model Performance Metrics', fontsize=16)\n",
        "\n",
        "# Plot latest ROUGE scores\n",
        "rouge_categories_latest = ['ROUGE-1', 'ROUGE-2', 'ROUGE-L']\n",
        "rouge_f_latest = [rouge_scores_latest[cat]['f'] for cat in rouge_categories_latest]\n",
        "rouge_p_latest = [rouge_scores_latest[cat]['p'] for cat in rouge_categories_latest]\n",
        "rouge_r_latest = [rouge_scores_latest[cat]['r'] for cat in rouge_categories_latest]\n",
        "x_latest = np.arange(len(rouge_categories_latest))  # the label locations\n",
        "\n",
        "# Define bar width\n",
        "width_latest = 0.3\n",
        "\n",
        "# Create bars\n",
        "axs[0].bar(x_latest - width_latest, rouge_f_latest, width_latest, label='F1')\n",
        "axs[0].bar(x_latest, rouge_p_latest, width_latest, label='Precision')\n",
        "axs[0].bar(x_latest + width_latest, rouge_r_latest, width_latest, label='Recall')\n",
        "\n",
        "# Title and labels\n",
        "axs[0].set_ylabel('Scores')\n",
        "axs[0].set_title('ROUGE Scores by Metric')\n",
        "axs[0].set_xticks(x_latest)\n",
        "axs[0].set_xticklabels(rouge_categories_latest)\n",
        "axs[0].legend()\n",
        "\n",
        "# Plot latest BERT scores\n",
        "bert_categories_latest = ['Precision', 'Recall', 'F1 Score']\n",
        "bert_values_latest = [bert_scores_latest[cat] for cat in bert_categories_latest]\n",
        "axs[1].bar(bert_categories_latest, bert_values_latest, color='blue')\n",
        "\n",
        "# Title and labels\n",
        "axs[1].set_title('BERTScores')\n",
        "axs[1].set_ylabel('Scores')\n",
        "axs[1].set_ylim([0.5, 1.0])\n",
        "\n",
        "# Show plot\n",
        "plt.tight_layout()\n",
        "plt.show()\n"
      ],
      "metadata": {
        "colab": {
          "base_uri": "https://localhost:8080/",
          "height": 610
        },
        "id": "Yh_IJoqSmgYU",
        "outputId": "b44f06a1-79dd-41ba-9c01-390ad8eb436f"
      },
      "id": "Yh_IJoqSmgYU",
      "execution_count": null,
      "outputs": [
        {
          "output_type": "display_data",
          "data": {
            "text/plain": [
              "<Figure size 1400x600 with 2 Axes>"
            ],
            "image/png": "[encoded data removed]"
          },
          "metadata": {}
        }
      ]
    },
    {
      "cell_type": "code",
      "source": [
        "import matplotlib.pyplot as plt\n",
        "\n",
        "# Define the original document and generated summary\n",
        "original_document = first_abstract\n",
        "generated_summary = top_sentences\n",
        "\n",
        "# Plotting\n",
        "fig, axes = plt.subplots(1, 2, figsize=(15, 6))\n",
        "\n",
        "# Plot original document\n",
        "axes[0].text(0.5, 0.5, original_document, horizontalalignment='center', verticalalignment='center', fontsize=12)\n",
        "axes[0].set_title('Original Document')\n",
        "axes[0].axis('off')\n",
        "\n",
        "# Plot generated summary\n",
        "axes[1].text(0.5, 0.5, generated_summary, horizontalalignment='center', verticalalignment='center', fontsize=12)\n",
        "axes[1].set_title('Generated Summary')\n",
        "axes[1].axis('off')\n",
        "\n",
        "plt.show()\n"
      ],
      "metadata": {
        "id": "KG__MroXbCTG",
        "colab": {
          "base_uri": "https://localhost:8080/",
          "height": 521
        },
        "outputId": "98f80fbd-0771-42ac-dfd3-98fedb31143a"
      },
      "id": "KG__MroXbCTG",
      "execution_count": null,
      "outputs": [
        {
          "output_type": "display_data",
          "data": {
            "text/plain": [
              "<Figure size 1500x600 with 2 Axes>"
            ],
            "image/png": "[encoded data removed]"
          },
          "metadata": {}
        }
      ]
    },
    {
      "cell_type": "code",
      "source": [
        "import matplotlib.pyplot as plt\n",
        "\n",
        "# Define the original document and generated summary\n",
        "original_document = first_abstract\n",
        "generated_summary = top_sentences\n",
        "\n",
        "# Plotting\n",
        "fig, ax = plt.subplots(figsize=(10, 6))\n",
        "\n",
        "# Set bar positions\n",
        "bar_positions = [0, 1]\n",
        "\n",
        "# Set bar heights\n",
        "bar_heights = [len(original_document), len(generated_summary)]\n",
        "\n",
        "# Set bar labels\n",
        "bar_labels = ['Original Document', 'Generated Summary']\n",
        "\n",
        "# Create horizontal bar chart\n",
        "ax.barh(bar_positions, bar_heights, align='center', color=['skyblue', 'orange'])\n",
        "\n",
        "# Set y-ticks and y-tick labels\n",
        "ax.set_yticks(bar_positions)\n",
        "ax.set_yticklabels(bar_labels)\n",
        "\n",
        "# Set labels and title\n",
        "ax.set_xlabel('Number of Characters')\n",
        "ax.set_title('Comparison of Original Document and Generated Summary')\n",
        "\n",
        "plt.show()\n"
      ],
      "metadata": {
        "id": "Rzx9zM4NJK2C",
        "colab": {
          "base_uri": "https://localhost:8080/",
          "height": 564
        },
        "outputId": "92250724-96e1-46e6-dde1-be7a87cb02dc"
      },
      "id": "Rzx9zM4NJK2C",
      "execution_count": null,
      "outputs": [
        {
          "output_type": "display_data",
          "data": {
            "text/plain": [
              "<Figure size 1000x600 with 1 Axes>"
            ],
            "image/png": "[encoded data removed]"
          },
          "metadata": {}
        }
      ]
    },
    {
      "cell_type": "code",
      "source": [],
      "metadata": {
        "id": "-tfIOnnUJK42"
      },
      "id": "-tfIOnnUJK42",
      "execution_count": null,
      "outputs": []
    },
    {
      "cell_type": "code",
      "source": [
        "'''\n",
        "\n",
        "Sentence Tokenization: The first step is to break down each abstract into individual sentences.\n",
        "This is done using the sent_tokenize function from the NLTK library, which splits text into sentences.\n",
        "\n",
        "Vectorization (TF-IDF): Once the sentences are tokenized, the next step is to convert these sentences\n",
        "into a numerical format that can be processed for similarity calculations. This is achieved using the\n",
        "\n",
        "Term Frequency-Inverse Document Frequency (TF-IDF) method. TF-IDF is a statistical measure used to\n",
        "evaluate how important a word is to a document in a collection or corpus.\n",
        "\n",
        "Cosine Similarity: After vectorizing the sentences, the script calculates the cosine similarity between\n",
        "all pairs of sentences. Cosine similarity is a metric used to determine how similar the documents are irrespective\n",
        "of their size. In this case, it's used to establish similarity scores between sentences based on their TF-IDF vectors.\n",
        "\n",
        "Graph Construction: The sentences are represented as nodes in a graph, and edges between these nodes are established\n",
        "based on their cosine similarity. An edge is created between two nodes if their cosine similarity exceeds a\n",
        "certain threshold (0.3 in this script), and the weight of the edge is proportional to the similarity score.\n",
        "\n",
        "PageRank Algorithm: The script uses the PageRank algorithm, a type of centrality measure, to rank the nodes\n",
        "(sentences) in the graph based on their connections. PageRank was originally developed by Google to rank\n",
        "websites in their search engine results. In the context of text summarization, it helps identify which\n",
        "sentences are most central or important in the graph.\n",
        "\n",
        "Summary Extraction: Based on the rankings from the PageRank algorithm, the script selects the top-ranked\n",
        "sentences to form the summary. These sentences are considered the most representative or important according\n",
        "to the graph's structure and the semantic relationships captured via cosine similarity and TF-IDF.\n",
        "\n",
        "'''"
      ],
      "metadata": {
        "id": "cle2HyanJK7R"
      },
      "id": "cle2HyanJK7R",
      "execution_count": null,
      "outputs": []
    },
    {
      "cell_type": "code",
      "source": [
        "\n",
        "from google.colab import drive\n",
        "drive.mount('/content/drive')\n",
        "import pandas as pd\n",
        "import networkx as nx\n",
        "import nltk\n",
        "from nltk.tokenize import sent_tokenize\n",
        "from sklearn.feature_extraction.text import TfidfVectorizer\n",
        "from sklearn.metrics.pairwise import cosine_similarity\n",
        "\n",
        "# Ensure that NLTK's 'punkt' tokenizer model is downloaded\n",
        "nltk.download('punkt')\n",
        "\n",
        "# Load the dataset\n",
        "file_path = '/content/drive/My Drive/CV.csv'\n",
        "data = pd.read_csv(file_path)\n",
        "\n",
        "# Preprocess the Data: Tokenize the document into sentences from 'abstract' column\n",
        "data['sentences'] = data['abstract'].apply(sent_tokenize)\n",
        "\n",
        "# Function to build the graph from sentences\n",
        "def build_graph(sentences):\n",
        "    vectorizer = TfidfVectorizer(stop_words='english')\n",
        "    X = vectorizer.fit_transform(sentences)\n",
        "\n",
        "    # Compute cosine similarity between sentences\n",
        "    cosine_sim = cosine_similarity(X)\n",
        "\n",
        "    # Create a graph and add edges based on cosine similarity\n",
        "    G = nx.Graph()\n",
        "    for i in range(len(sentences)):\n",
        "        for j in range(i + 1, len(sentences)):\n",
        "            if cosine_sim[i, j] > 0.3:  # threshold to define an edge\n",
        "                G.add_edge(i, j, weight=cosine_sim[i, j])\n",
        "    return G\n",
        "\n",
        "# Apply the graph building function to each row of sentences in the DataFrame\n",
        "data['graphs'] = data['sentences'].apply(build_graph)\n",
        "\n",
        "# Function to rank nodes (sentences) and extract the summary\n",
        "def summarize(graph):\n",
        "    ranks = nx.pagerank(graph, weight='weight')  # Using PageRank to rank nodes\n",
        "    sorted_ranks = sorted(ranks.items(), key=lambda item: item[1], reverse=True)\n",
        "\n",
        "    # Select top-ranked sentences\n",
        "    top_sentences_indices = [idx for idx, rank in sorted_ranks[:5]]\n",
        "    return top_sentences_indices\n",
        "\n",
        "data['summary_indices'] = data['graphs'].apply(summarize)\n",
        "data['summary'] = data.apply(lambda row: [row['sentences'][idx] for idx in row['summary_indices']], axis=1)\n",
        "\n",
        "# Optionally, display the summaries\n",
        "print(data[['abstract', 'summary']])\n"
      ],
      "metadata": {
        "colab": {
          "base_uri": "https://localhost:8080/"
        },
        "id": "GzxKNNVSJK9y",
        "outputId": "3b622112-3e69-495f-a846-189b20d4674d"
      },
      "id": "GzxKNNVSJK9y",
      "execution_count": null,
      "outputs": [
        {
          "output_type": "stream",
          "name": "stdout",
          "text": [
            "Drive already mounted at /content/drive; to attempt to forcibly remount, call drive.mount(\"/content/drive\", force_remount=True).\n"
          ]
        },
        {
          "output_type": "stream",
          "name": "stderr",
          "text": [
            "[nltk_data] Downloading package punkt to /root/nltk_data...\n",
            "[nltk_data]   Unzipping tokenizers/punkt.zip.\n"
          ]
        },
        {
          "output_type": "stream",
          "name": "stdout",
          "text": [
            "                                                 abstract summary\n",
            "0         There is a huge amount of historical documen...      []\n",
            "1         Many techniques for handling missing data ha...      []\n",
            "2         The Parameter-Less Self-Organizing Map (PLSO...      []\n",
            "3         We present a novel approach for the derivati...      []\n",
            "4         We propose a new algorithm to the problem of...      []\n",
            "...                                                   ...     ...\n",
            "101794    In this article, we describe a new method of...      []\n",
            "101795    This paper is on the spatio-temporal signals...      []\n",
            "101796    The spatial distribution of neuronal cells i...      []\n",
            "101797    Fetal heart rate (FHR) monitoring, before an...      []\n",
            "101798    Analogue computers use continuous properties...      []\n",
            "\n",
            "[101799 rows x 2 columns]\n"
          ]
        }
      ]
    },
    {
      "cell_type": "code",
      "source": [],
      "metadata": {
        "id": "pmz_BvAl8Rdl"
      },
      "id": "pmz_BvAl8Rdl",
      "execution_count": null,
      "outputs": []
    },
    {
      "cell_type": "code",
      "source": [
        "import pandas as pd\n",
        "import numpy as np\n",
        "from sklearn.feature_extraction.text import TfidfVectorizer\n",
        "from sklearn.metrics.pairwise import cosine_similarity\n",
        "import networkx as nx\n",
        "from transformers import BertTokenizer, BertModel\n",
        "import torch\n",
        "from google.colab import drive\n",
        "drive.mount('/content/drive')\n",
        "# Load dataset\n",
        "data = pd.read_csv('/content/drive/My Drive/CV.csv')\n",
        "\n",
        "# Sample column names\n",
        "text_column = 'abstract'  # Adjust based on your CSV structure\n",
        "\n",
        "# BERT Model Setup\n",
        "tokenizer = BertTokenizer.from_pretrained('bert-base-uncased')\n",
        "model = BertModel.from_pretrained('bert-base-uncased')\n",
        "\n",
        "# Function to preprocess text\n",
        "def preprocess(texts):\n",
        "    processed_texts = [tokenizer(text, padding='max_length', max_length=512, truncation=True, return_tensors=\"pt\") for text in texts]\n",
        "    return processed_texts\n",
        "\n",
        "# TF-IDF Vectorization\n",
        "def tfidf_vectorization(texts):\n",
        "    vectorizer = TfidfVectorizer(stop_words='english')\n",
        "    tfidf_matrix = vectorizer.fit_transform(texts)\n",
        "    return tfidf_matrix\n",
        "\n",
        "# Function to calculate cosine similarity matrix, which is square\n",
        "def get_cosine_similarity_matrix(tfidf_matrix):\n",
        "    return cosine_similarity(tfidf_matrix)\n",
        "\n",
        "import networkx as nx\n",
        "\n",
        "# Correct Graph Construction\n",
        "def construct_graph(matrix):\n",
        "    # Depending on your version of NetworkX, use the appropriate function\n",
        "    if hasattr(nx, 'from_scipy_sparse_matrix'):\n",
        "        graph = nx.from_scipy_sparse_matrix(matrix)\n",
        "    else:\n",
        "        graph = nx.from_scipy_sparse_array(matrix)\n",
        "    return graph\n",
        "\n",
        "\n",
        "# Sentence Ranking using PageRank\n",
        "def rank_sentences(graph):\n",
        "    scores = nx.pagerank(graph)\n",
        "    ranked_sentences = sorted(((scores[i], s) for i, s in enumerate(sentences)), reverse=True)\n",
        "    return ranked_sentences\n",
        "\n",
        "# BERT Embeddings\n",
        "def bert_embeddings(processed_texts):\n",
        "    with torch.no_grad():\n",
        "        embeddings = [model(**text).last_hidden_state.mean(dim=1) for text in processed_texts]\n",
        "    embeddings = torch.stack(embeddings).squeeze()\n",
        "    return embeddings\n",
        "\n",
        "# Calculate Cosine Similarity\n",
        "def cosine_sim(embeddings):\n",
        "    cos_sim_matrix = cosine_similarity(embeddings.cpu().numpy())\n",
        "    return cos_sim_matrix\n",
        "\n",
        "# Main processing steps\n",
        "texts = data[text_column].tolist()\n",
        "tfidf_matrix = tfidf_vectorization(texts)\n",
        "cosine_sim_matrix = get_cosine_similarity_matrix(tfidf_matrix)\n",
        "graph_with_tfidf = construct_graph_from_similarity_matrix(cosine_sim_matrix)\n",
        "ranked_by_tfidf = rank_sentences(graph_with_tfidf)\n",
        "\n",
        "processed_texts = preprocess(texts)\n",
        "embeddings = bert_embeddings(processed_texts)\n",
        "bert_cos_sim_matrix = cosine_sim(embeddings)\n",
        "graph_with_bert = construct_graph_from_similarity_matrix(bert_cos_sim_matrix)\n",
        "ranked_by_bert = rank_sentences(graph_with_bert)\n",
        "\n",
        "# Print ranked sentences (Example output)\n",
        "print(\"Top sentences ranked by TF-IDF:\", ranked_by_tfidf[:5])\n",
        "print(\"Top sentences ranked by BERT:\", ranked_by_bert[:5])\n"
      ],
      "metadata": {
        "colab": {
          "base_uri": "https://localhost:8080/"
        },
        "id": "N5bOlPF28RfO",
        "outputId": "45ba42e4-33db-4f59-caa8-a08d746d6a33"
      },
      "id": "N5bOlPF28RfO",
      "execution_count": null,
      "outputs": [
        {
          "output_type": "stream",
          "name": "stdout",
          "text": [
            "Drive already mounted at /content/drive; to attempt to forcibly remount, call drive.mount(\"/content/drive\", force_remount=True).\n"
          ]
        }
      ]
    },
    {
      "cell_type": "code",
      "source": [
        "import pandas as pd\n",
        "import numpy as np\n",
        "from sklearn.feature_extraction.text import TfidfVectorizer\n",
        "from sklearn.metrics.pairwise import cosine_similarity\n",
        "import networkx as nx\n",
        "from transformers import BertTokenizer, BertModel\n",
        "import torch\n",
        "\n",
        "# Load dataset\n",
        "data = pd.read_csv('/content/drive/My Drive/CV.csv')\n",
        "\n",
        "# Use only the first 10 abstracts for demonstration\n",
        "data = data.head(10)\n",
        "\n",
        "# Sample column names\n",
        "text_column = 'abstract'  # Adjust based on your CSV structure\n",
        "\n",
        "# BERT Model Setup\n",
        "tokenizer = BertTokenizer.from_pretrained('bert-base-uncased')\n",
        "model = BertModel.from_pretrained('bert-base-uncased')\n",
        "\n",
        "# Function to preprocess text\n",
        "def preprocess(texts):\n",
        "    processed_texts = [tokenizer(text, padding='max_length', max_length=512, truncation=True, return_tensors=\"pt\") for text in texts]\n",
        "    return processed_texts\n",
        "\n",
        "# TF-IDF Vectorization\n",
        "def tfidf_vectorization(texts):\n",
        "    vectorizer = TfidfVectorizer(stop_words='english')\n",
        "    tfidf_matrix = vectorizer.fit_transform(texts)\n",
        "    return tfidf_matrix\n",
        "\n",
        "# Function to calculate cosine similarity matrix, which is square\n",
        "def get_cosine_similarity_matrix(tfidf_matrix):\n",
        "    return cosine_similarity(tfidf_matrix)\n",
        "\n",
        "# Graph Construction\n",
        "def construct_graph_from_similarity_matrix(similarity_matrix):\n",
        "    graph = nx.from_numpy_array(similarity_matrix)\n",
        "    return graph\n",
        "\n",
        "# Sentence Ranking using PageRank\n",
        "def rank_sentences(graph, sentences):\n",
        "    scores = nx.pagerank(graph)\n",
        "    ranked_sentences = sorted(((scores[i], s) for i, s in enumerate(sentences)), reverse=True)\n",
        "    return ranked_sentences\n",
        "\n",
        "# BERT Embeddings\n",
        "def bert_embeddings(processed_texts):\n",
        "    with torch.no_grad():\n",
        "        embeddings = [model(**text).last_hidden_state.mean(dim=1) for text in processed_texts]\n",
        "    embeddings = torch.stack(embeddings).squeeze()\n",
        "    return embeddings\n",
        "\n",
        "# Calculate Cosine Similarity\n",
        "def cosine_sim(embeddings):\n",
        "    cos_sim_matrix = cosine_similarity(embeddings.cpu().numpy())\n",
        "    return cos_sim_matrix\n",
        "\n",
        "# Main processing steps\n",
        "texts = data[text_column].tolist()\n",
        "tfidf_matrix = tfidf_vectorization(texts)\n",
        "cosine_sim_matrix = get_cosine_similarity_matrix(tfidf_matrix)\n",
        "graph_with_tfidf = construct_graph_from_similarity_matrix(cosine_sim_matrix)\n",
        "ranked_by_tfidf = rank_sentences(graph_with_tfidf, texts)\n",
        "\n",
        "processed_texts = preprocess(texts)\n",
        "embeddings = bert_embeddings(processed_texts)\n",
        "bert_cos_sim_matrix = cosine_sim(embeddings)\n",
        "graph_with_bert = construct_graph_from_similarity_matrix(bert_cos_sim_matrix)\n",
        "ranked_by_bert = rank_sentences(graph_with_bert, texts)\n",
        "\n",
        "# Print ranked sentences (Example output)\n",
        "print(\"Top sentences ranked by TF-IDF:\", ranked_by_tfidf[:5])\n",
        "print(\"Top sentences ranked by BERT:\", ranked_by_bert[:5])\n"
      ],
      "metadata": {
        "colab": {
          "base_uri": "https://localhost:8080/"
        },
        "id": "EEtOi0Wx_1Pp",
        "outputId": "d8faeb15-98bb-45e6-9fff-606894df562f"
      },
      "id": "EEtOi0Wx_1Pp",
      "execution_count": null,
      "outputs": [
        {
          "output_type": "stream",
          "name": "stdout",
          "text": [
            "Top sentences ranked by TF-IDF: (0.10975342232654905, '  This paper presents deformable templates as a tool for segmentation and\\nlocalization of biological structures in medical images. Structures are\\nrepresented by a prototype template, combined with a parametric warp mapping\\nused to deform the original shape. The localization procedure is achieved using\\na multi-stage, multi-resolution algorithm de-signed to reduce computational\\ncomplexity and time. The algorithm initially identifies regions in the image\\nmost likely to contain the desired objects and then examines these regions at\\nprogressively increasing resolutions. The final stage of the algorithm involves\\nwarping the prototype template to match the localized objects. The algorithm is\\npresented along with the results of four example applications using MRI, x-ray\\nand ultrasound images.\\n')\n",
            "Top sentences ranked by BERT: [(0.10177594109612584, '  We propose a new algorithm to the problem of polygonal curve approximation\\nbased on a multiresolution approach. This algorithm is suboptimal but still\\nmaintains some optimality between successive levels of resolution using dynamic\\nprogramming. We show theoretically and experimentally that this algorithm has a\\nlinear complexity in time and space. We experimentally compare the outcomes of\\nour algorithm to the optimal \"full search\" dynamic programming solution and\\nfinally to classical merge and split approaches. The experimental evaluations\\nconfirm the theoretical derivations and show that the proposed approach\\nevaluated on 2D coastal maps either show a lower time complexity or provide\\npolygonal approximations closer to the input discrete curves.\\n'), (0.10119059413278796, '  This paper investigates the use of evolutionary optimisation techniques to\\nregister a template with a scene image. An error function is created to measure\\nthe correspondence of the template to the image. The problem presented here is\\nto optimise the horizontal, vertical and scaling parameters that register the\\ntemplate with the scene. The Genetic Algorithm, Simulated Annealing and\\nParticle Swarm Optimisations are compared to a Nelder-Mead Simplex optimisation\\nwith starting points chosen in a pre-processing stage. The paper investigates\\nthe precision and accuracy of each method and shows that all four methods\\nperform favourably for image registration. SA is the most precise, GA is the\\nmost accurate. PSO is a good mix of both and the Simplex method returns local\\nminima the most. A pre-processing stage should be investigated for the\\nevolutionary methods in order to improve performance. Discrete versions of the\\noptimisation methods should be investigated to further improve computational\\nperformance.\\n'), (0.101037041654433, '  Recurrent neural networks (RNNs) have proved effective at one dimensional\\nsequence learning tasks, such as speech and online handwriting recognition.\\nSome of the properties that make RNNs suitable for such tasks, for example\\nrobustness to input warping, and the ability to access contextual information,\\nare also desirable in multidimensional domains. However, there has so far been\\nno direct way of applying RNNs to data with more than one spatio-temporal\\ndimension. This paper introduces multi-dimensional recurrent neural networks\\n(MDRNNs), thereby extending the potential applicability of RNNs to vision,\\nvideo processing, medical imaging and many other areas, while avoiding the\\nscaling problems that have plagued other multi-dimensional models. Experimental\\nresults are provided for two image segmentation tasks.\\n'), (0.10089830887833157, '  This paper explores a comparative study of both the linear and kernel\\nimplementations of three of the most popular Appearance-based Face Recognition\\nprojection classes, these being the methodologies of Principal Component\\nAnalysis, Linear Discriminant Analysis and Independent Component Analysis. The\\nexperimental procedure provides a platform of equal working conditions and\\nexamines the ten algorithms in the categories of expression, illumination,\\nocclusion and temporal delay. The results are then evaluated based on a\\nsequential combination of assessment tools that facilitate both intuitive and\\nstatistical decisiveness among the intra and interclass comparisons. The best\\ncategorical algorithms are then incorporated into a hybrid methodology, where\\nthe advantageous effects of fusion strategies are considered.\\n'), (0.1008465700898988, '  Many techniques for handling missing data have been proposed in the\\nliterature. Most of these techniques are overly complex. This paper explores an\\nimputation technique based on rough set computations. In this paper,\\ncharacteristic relations are introduced to describe incompletely specified\\ndecision tables.It is shown that the basic rough set idea of lower and upper\\napproximations for incompletely specified decision tables may be defined in a\\nvariety of different ways. Empirical results obtained using real data are given\\nand they provide a valuable and promising insight to the problem of missing\\ndata. Missing data were predicted with an accuracy of up to 99%.\\n')]\n"
          ]
        }
      ]
    },
    {
      "cell_type": "code",
      "source": [],
      "metadata": {
        "id": "gjBbXFFYY5Kd"
      },
      "id": "gjBbXFFYY5Kd",
      "execution_count": null,
      "outputs": []
    }
  ],
  "metadata": {
    "kernelspec": {
      "display_name": "Python 3 (ipykernel)",
      "language": "python",
      "name": "python3"
    },
    "language_info": {
      "codemirror_mode": {
        "name": "ipython",
        "version": 3
      },
      "file_extension": ".py",
      "mimetype": "text/x-python",
      "name": "python",
      "nbconvert_exporter": "python",
      "pygments_lexer": "ipython3",
      "version": "3.9.13"
    },
    "colab": {
      "provenance": []
    }
  },
  "nbformat": 4,
  "nbformat_minor": 5
}