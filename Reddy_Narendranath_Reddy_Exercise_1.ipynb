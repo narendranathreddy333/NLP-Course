{
 "cells": [
  {
   "cell_type": "markdown",
   "metadata": {
    "id": "view-in-github"
   },
   "source": [
    "<a href=\"https://colab.research.google.com/github/unt-iialab/INFO5731_Spring2020/blob/master/In_class_exercise/In_class_exercise_01.ipynb\" target=\"_parent\"><img src=\"https://colab.research.google.com/assets/colab-badge.svg\" alt=\"Open In Colab\"/></a>"
   ]
  },
  {
   "cell_type": "markdown",
   "metadata": {
    "id": "DymRJbxDBCnf"
   },
   "source": [
    "# **Exercise 1**\n",
    "\n",
    "**Expectations**:\n",
    "*   This first exercise covers a variety of fundamental concepts in Python and is designed to help students improve their coding skills and problem-solving abilities.\n",
    "*   Students are expected to complete the exercise during lecture period to meet the active participation criteria of the course.\n",
    "*   Use the provided .*ipynb* document to write your code & respond to the questions. Avoid generating a new file.\n",
    "*   Write complete answers and run all the cells before submission.\n",
    "*   Make sure the submission is \"clean\"; *i.e.*, no unnecessary code cells.\n",
    "*   Once finished, allow shared rights from top right corner (*see Canvas for details*).\n",
    "\n",
    "**Total points**: 20\n",
    "\n",
    "**Deadline**: This in-class exercise is due at the end of the day tomorrow, at 11:59 PM.\n",
    "\n",
    "**Late submissions cannot be considered, and no requests will be answered. Manage your time accordingly.**\n"
   ]
  },
  {
   "cell_type": "markdown",
   "metadata": {
    "id": "FBKvD6O_TY6e"
   },
   "source": [
    "## Question 1\n",
    "Write a Python program that  prompts the user to input the length and width of a rectangle, and then calculates and displays the area of the rectangle."
   ]
  },
  {
   "cell_type": "code",
   "execution_count": 1,
   "metadata": {
    "colab": {
     "base_uri": "https://localhost:8080/"
    },
    "id": "cikVKDXdTbzE",
    "outputId": "fbe96d9b-7a7e-45a5-b25b-37493f7c0a41"
   },
   "outputs": [
    {
     "name": "stdout",
     "output_type": "stream",
     "text": [
      "Please enter the length of rectangle:2\n",
      "Please enter the width of rectangle:3\n",
      "The area of rectange: 6\n"
     ]
    }
   ],
   "source": [
    "length=int(input(\"Please enter the length of rectangle:\"))\n",
    "width=int(input(\"Please enter the width of rectangle:\"))\n",
    "area=length*width\n",
    "print(\"The area of rectange:\",area)"
   ]
  },
  {
   "cell_type": "markdown",
   "metadata": {
    "id": "E9RqrlwdTfvl"
   },
   "source": [
    "## Question 2\n",
    "Create a Python program that interactively takes two numerical inputs from the user and swaps their values without utilizing an extra variable."
   ]
  },
  {
   "cell_type": "code",
   "execution_count": 2,
   "metadata": {
    "colab": {
     "base_uri": "https://localhost:8080/"
    },
    "id": "4XvRknixTh1g",
    "outputId": "68d77858-9346-4883-88d7-de33b3645a5e"
   },
   "outputs": [
    {
     "name": "stdout",
     "output_type": "stream",
     "text": [
      "Please enter the first numerical input:1\n",
      "Please enter the second numerical input:2\n",
      "The value of num1 after swapping: 2\n",
      "The value of num2 after swapping: 1\n"
     ]
    }
   ],
   "source": [
    "num1=int(input(\"Please enter the first numerical input:\"))\n",
    "num2=int(input(\"Please enter the second numerical input:\"))\n",
    "num1=num1+num2\n",
    "num2=num1-num2\n",
    "num1=num1-num2\n",
    "print(\"The value of num1 after swapping:\",num1)\n",
    "print(\"The value of num2 after swapping:\",num2)"
   ]
  },
  {
   "cell_type": "markdown",
   "metadata": {
    "id": "03jb4GZsBkBS"
   },
   "source": [
    "## Question 3\n",
    "Write a Python script to determine and print the length of a user-input string."
   ]
  },
  {
   "cell_type": "code",
   "execution_count": 3,
   "metadata": {
    "colab": {
     "base_uri": "https://localhost:8080/"
    },
    "id": "YaGLbSHHB8Ej",
    "outputId": "093e0dda-dccf-490c-be49-adea58446cbd"
   },
   "outputs": [
    {
     "name": "stdout",
     "output_type": "stream",
     "text": [
      "Please enter a string:reddy\n",
      "length of input string: 5\n"
     ]
    }
   ],
   "source": [
    "s=input(\"Please enter a string:\")\n",
    "length=0\n",
    "for i in s:\n",
    "  length=length+1\n",
    "print(\"length of input string:\",length)\n"
   ]
  },
  {
   "cell_type": "markdown",
   "metadata": {
    "id": "jJDe71iLB616"
   },
   "source": [
    "## Question 4\n",
    "Construct a Python program that counts and displays the occurrences of each character in a given string.\n",
    "\n",
    "Sample String: 'openai.ai',\n",
    "\n",
    "Expected Result: {'a': 2, 'i': 2, '.': 1, 'o': 1, 'p': 1, 'e': 1, 'n': 1}"
   ]
  },
  {
   "cell_type": "code",
   "execution_count": 8,
   "metadata": {
    "colab": {
     "base_uri": "https://localhost:8080/"
    },
    "id": "MtKskTzbCLaU",
    "outputId": "a45c1487-a73c-4d83-f75e-df2a625f2fde"
   },
   "outputs": [
    {
     "name": "stdout",
     "output_type": "stream",
     "text": [
      "{'o': 1, 'p': 1, 'e': 1, 'n': 1, 'a': 2, 'i': 2, '.': 1}\n"
     ]
    }
   ],
   "source": [
    "sample_string='openai.ai'\n",
    "my_dict={}\n",
    "for i in sample_string:\n",
    "  count=sample_string.count(i)\n",
    "  my_dict[i]=count\n",
    "print(my_dict)"
   ]
  },
  {
   "cell_type": "markdown",
   "metadata": {
    "id": "55W9AMdXCSpV"
   },
   "source": [
    "## Question 5\n",
    "Design a Python code to calculate the sum of all elements in a user-provided list."
   ]
  },
  {
   "cell_type": "code",
   "execution_count": 2,
   "metadata": {
    "colab": {
     "base_uri": "https://localhost:8080/"
    },
    "id": "I57NXsauCec2",
    "outputId": "ed1c0f82-a41c-4b79-ac20-4970b5036a2a"
   },
   "outputs": [
    {
     "name": "stdout",
     "output_type": "stream",
     "text": [
      "1 2 3 4 \n",
      "The sum of all elements in list: 10\n"
     ]
    }
   ],
   "source": [
    "l=list(map(int,input().split()))\n",
    "sum_list=0\n",
    "for i in l:\n",
    "  sum_list=sum_list+i\n",
    "print(\"The sum of all elements in list:\",sum_list)"
   ]
  },
  {
   "cell_type": "markdown",
   "metadata": {
    "id": "4ulBZ6yhCi9F"
   },
   "source": [
    "## Question 6\n",
    "Write a Python program that modifies a given string by replacing all occurrences of its first character with '$', excluding the first character itself.\n",
    "\n",
    "\n",
    "Sample String : 'restart‘\n",
    "Expected Result : 'resta\\$t'"
   ]
  },
  {
   "cell_type": "code",
   "execution_count": 12,
   "metadata": {
    "colab": {
     "base_uri": "https://localhost:8080/"
    },
    "id": "Fj0XhwbBCw2o",
    "outputId": "a43991ec-f0bd-4350-8ec2-075b23632427"
   },
   "outputs": [
    {
     "name": "stdout",
     "output_type": "stream",
     "text": [
      "resta$t\n"
     ]
    }
   ],
   "source": [
    "s = 'restart'\n",
    "s1 = s[0]\n",
    "for i in range(1, len(s)):\n",
    "    if s[i] == s[0]:\n",
    "        s1 = s1 + '$'\n",
    "    else:\n",
    "        s1 = s1 + s[i]\n",
    "print(s1)"
   ]
  },
  {
   "cell_type": "markdown",
   "metadata": {
    "id": "qVXA3q7ET5JI"
   },
   "source": [
    "## Question 7\n",
    "Write a Python program using a while loop to compute the factorial of a user-supplied number."
   ]
  },
  {
   "cell_type": "code",
   "execution_count": 14,
   "metadata": {
    "colab": {
     "base_uri": "https://localhost:8080/"
    },
    "id": "Lbt7R6UkT7BA",
    "outputId": "7599d53c-29dc-4a89-91d6-dabccd4731ae"
   },
   "outputs": [
    {
     "name": "stdout",
     "output_type": "stream",
     "text": [
      "Please enter a number:4\n",
      "The factorial of given input: 24\n"
     ]
    }
   ],
   "source": [
    "num=int(input(\"Please enter a number:\"))\n",
    "k=1\n",
    "i=1\n",
    "while i<=num:\n",
    "    k=i*k\n",
    "    i=i+1\n",
    "print(\"The factorial of given input:\",k)"
   ]
  },
  {
   "cell_type": "markdown",
   "metadata": {
    "id": "6YfbzXMNT--R"
   },
   "source": [
    "## Question 8\n",
    "Create a program that accepts a list of numbers as input and outputs a new list containing only the even numbers."
   ]
  },
  {
   "cell_type": "code",
   "execution_count": 17,
   "metadata": {
    "colab": {
     "base_uri": "https://localhost:8080/"
    },
    "id": "54q7wMQPUAKu",
    "outputId": "a270535f-7fc2-495e-ae17-1362a5c70f80"
   },
   "outputs": [
    {
     "name": "stdout",
     "output_type": "stream",
     "text": [
      "Please enter list of numbers:1 2 3 4 5 6\n",
      "[2, 4, 6]\n"
     ]
    }
   ],
   "source": [
    "l=list(map(int,input(\"Please enter list of numbers:\").split()))\n",
    "l1=[]\n",
    "for i in l:\n",
    "    if i%2==0:\n",
    "     l1.append(i)\n",
    "print(l1)"
   ]
  },
  {
   "cell_type": "markdown",
   "metadata": {
    "id": "_bIP7s1MCzue"
   },
   "source": [
    "## Question 9\n",
    "Design a Python function to check if a number is prime.\n"
   ]
  },
  {
   "cell_type": "code",
   "execution_count": 20,
   "metadata": {
    "colab": {
     "base_uri": "https://localhost:8080/"
    },
    "id": "w79QilHXD3Mg",
    "outputId": "8a582234-2714-4f26-d37b-91da302bbc8b"
   },
   "outputs": [
    {
     "name": "stdout",
     "output_type": "stream",
     "text": [
      "Please enter a number:3\n",
      "prime\n"
     ]
    }
   ],
   "source": [
    "num=int(input(\"Please enter a number:\"))\n",
    "def fun(num):\n",
    "  for i in range(2,num//2+1):\n",
    "    if(num%i==0):\n",
    "      print(\"Not prime\")\n",
    "      break\n",
    "  else:\n",
    "    print(\"prime\")\n",
    "fun(num)"
   ]
  },
  {
   "cell_type": "markdown",
   "metadata": {
    "id": "xCa2bK9aD4Q3"
   },
   "source": [
    "## Question 10\n",
    "Write a Python program to concatenate following dictionaries to create a new one.\n",
    "\n",
    "Sample Dictionary : dic1={1:10, 2:20}, dic2={3:30, 4:40}, dic3={5:50,6:60},\n",
    "\n",
    "Expected Result : {1: 10, 2: 20, 3: 30, 4: 40, 5: 50, 6: 60}\n"
   ]
  },
  {
   "cell_type": "code",
   "execution_count": 21,
   "metadata": {
    "colab": {
     "base_uri": "https://localhost:8080/"
    },
    "id": "_z4aLqAbEET1",
    "outputId": "053258de-d9a3-483d-e756-5201520295c1"
   },
   "outputs": [
    {
     "name": "stdout",
     "output_type": "stream",
     "text": [
      "{1: 10, 2: 20, 3: 30, 4: 40, 5: 50, 6: 60}\n"
     ]
    }
   ],
   "source": [
    "dic1={1:10,2:20}\n",
    "dic2={3:30,4:40}\n",
    "dic3={5:50,6:60}\n",
    "concatenated_dict={**dic1,**dic2,**dic3}\n",
    "print(concatenated_dict)"
   ]
  },
  {
   "cell_type": "markdown",
   "metadata": {
    "id": "bkyZ2xSZUOst"
   },
   "source": [
    "## Question 11\n",
    "Design a Python function that takes a tuple of integers as input and returns the largest and smallest elements."
   ]
  },
  {
   "cell_type": "code",
   "execution_count": 22,
   "metadata": {
    "colab": {
     "base_uri": "https://localhost:8080/"
    },
    "id": "3FdLRBKOUQEd",
    "outputId": "0e030a9a-cf0e-4fb5-92f5-90df24d34b1a"
   },
   "outputs": [
    {
     "name": "stdout",
     "output_type": "stream",
     "text": [
      "1 2 3 4\n",
      "smallest element: 1\n",
      "largest element: 4\n"
     ]
    }
   ],
   "source": [
    "t=tuple(map(int,input().split()))\n",
    "def fun(t):\n",
    "  max=t[0]\n",
    "  min=t[0]\n",
    "  for i in range(1,len(t)):\n",
    "    if t[i]>max:\n",
    "      max=t[i]\n",
    "    if t[i]<min:\n",
    "      min=t[i]\n",
    "  print(\"smallest element:\",min)\n",
    "  print(\"largest element:\",max)\n",
    "fun(t)"
   ]
  },
  {
   "cell_type": "markdown",
   "metadata": {
    "id": "O0TVi3gKUTpp"
   },
   "source": [
    "## Question 12\n",
    "Write a Python program that counts the frequency of each character in a given string and stores it in a dictionary."
   ]
  },
  {
   "cell_type": "code",
   "execution_count": 61,
   "metadata": {
    "colab": {
     "base_uri": "https://localhost:8080/"
    },
    "id": "lAtfSfZXUU-h",
    "outputId": "66a8fa18-f7e3-4f40-be34-6cfdafbd5cfa"
   },
   "outputs": [
    {
     "name": "stdout",
     "output_type": "stream",
     "text": [
      "{'o': 1, 'p': 1, 'e': 1, 'n': 1, 'a': 2, 'i': 2, '.': 1}\n"
     ]
    }
   ],
   "source": [
    "sample_string='openai.ai'\n",
    "my_dict={}\n",
    "for i in sample_string:\n",
    "  count=sample_string.count(i)\n",
    "  my_dict[i]=count\n",
    "print(my_dict)"
   ]
  },
  {
   "cell_type": "markdown",
   "metadata": {
    "id": "0v48Vqa7FrQh"
   },
   "source": [
    "## Question 13\n",
    "Implement a Python script to identify duplicate elements in a provided array of integers. Return -1 if there are no duplicates."
   ]
  },
  {
   "cell_type": "code",
   "execution_count": 23,
   "metadata": {
    "colab": {
     "base_uri": "https://localhost:8080/"
    },
    "id": "7WEmgq-DF2P1",
    "outputId": "6af1f248-e7e1-4277-e3ad-79220710701f"
   },
   "outputs": [
    {
     "name": "stdout",
     "output_type": "stream",
     "text": [
      "The duplicates are: [2, 3, 6]\n"
     ]
    }
   ],
   "source": [
    "import array\n",
    "int_array=array.array('i',[2,2,1,3,5,6,6,2,3])\n",
    "l=[]\n",
    "for i in range(len(int_array)):\n",
    "  count=int_array.count(i)\n",
    "  if count>1:\n",
    "    l.append(i)\n",
    "if len(l)>=1:\n",
    "  print(\"The duplicates are:\",l)\n",
    "else:\n",
    "  print(\"No duplicates\")"
   ]
  },
  {
   "cell_type": "markdown",
   "metadata": {
    "id": "vD5PYLMuGga_"
   },
   "source": [
    "## Question 14\n",
    "Write a Python script to find the common elements between two lists."
   ]
  },
  {
   "cell_type": "code",
   "execution_count": 24,
   "metadata": {
    "colab": {
     "base_uri": "https://localhost:8080/"
    },
    "id": "t0D5kdJUGjjw",
    "outputId": "be4f4754-8d7a-4633-8be7-ccb038e6e74d"
   },
   "outputs": [
    {
     "name": "stdout",
     "output_type": "stream",
     "text": [
      "Please enter the first list:1 2 3 4\n",
      "Please enter the second list:2 3 4 5\n",
      "The common elements: [2, 3, 4]\n"
     ]
    }
   ],
   "source": [
    "l1=list(map(int,input(\"Please enter the first list:\").split()))\n",
    "l2=list(map(int,input(\"Please enter the second list:\").split()))\n",
    "l3=[]\n",
    "for i in l1:\n",
    "  if i in l1 and i in l2:\n",
    "    l3.append(i)\n",
    "if len(l3)>=1:\n",
    "  print(\"The common elements:\",l3)\n",
    "else:\n",
    "  print(\"No common elements\")"
   ]
  },
  {
   "cell_type": "markdown",
   "metadata": {
    "id": "uHkd-y5VhVWC"
   },
   "source": [
    "## Question 15\n",
    "Write a Python program to randomly divide the students in this class into six groups for term projects, each group should have at least 4 students but no more than 6 students (including 6).\n",
    "\n",
    "Here is the students list:\n",
    "\n",
    "student_list_spring_2024=[rb0846,\n",
    "ac1964,\n",
    "hc0612,\n",
    "md0912,\n",
    "ad1198,\n",
    "md0894,\n",
    "md0825,\n",
    "vg0598,\n",
    "vg0433,\n",
    "mh1068,\n",
    "yj0173,\n",
    "pk0553,\n",
    "tk0411,\n",
    "srk0204,\n",
    "sk2922,\n",
    "sk2936,\n",
    "mk1302,\n",
    "mk1317,\n",
    "tk0412,\n",
    "vk0656,\n",
    "sm2985,\n",
    "mm2372,\n",
    "un0045,\n",
    "an0892,\n",
    "sn0913,\n",
    "gp0252,\n",
    "ap1484,\n",
    "mr1765,\n",
    "sr1385,\n",
    "sr1335,\n",
    "hs0665,\n",
    "ms2060,\n",
    "gt0217,\n",
    "nt0385,\n",
    "tv0186,\n",
    "sv1394,\n",
    "sv1752,\n",
    "sv1555,\n",
    "sy0594\n",
    "]\n"
   ]
  },
  {
   "cell_type": "code",
   "execution_count": 25,
   "metadata": {
    "colab": {
     "base_uri": "https://localhost:8080/"
    },
    "id": "3iGbmcOBhTwy",
    "outputId": "8f95023f-32c0-458b-fe71-5980fef0a94e"
   },
   "outputs": [
    {
     "name": "stdout",
     "output_type": "stream",
     "text": [
      "['vk0656', 'tk0412', 'sr1385', 'sr1335', 'mm2372', 'rb0846'] \n",
      "\n",
      "['yj0173', 'sk2936', 'mk1302', 'nt0385', 'hc0612', 'pk0553'] \n",
      "\n",
      "['ad1198', 'hs0665', 'ap1484', 'tv0186', 'md0825', 'un0045'] \n",
      "\n",
      "['sv1752', 'vg0598', 'sk2922', 'md0894', 'sv1555', 'sn0913'] \n",
      "\n",
      "['tk0411', 'srk0204', 'ms2060', 'mr1765', 'md0912', 'sv1394'] \n",
      "\n",
      "['an0892', 'sm2985', 'ac1964', 'mh1068', 'gp0252', 'sy0594'] \n",
      "\n"
     ]
    }
   ],
   "source": [
    "import random\n",
    "student_list_spring_2024=['rb0846', 'ac1964', 'hc0612', 'md0912', 'ad1198', 'md0894', 'md0825', 'vg0598',\n",
    "'vg0433', 'mh1068', 'yj0173', 'pk0553', 'tk0411', 'srk0204', 'sk2922', 'sk2936', 'mk1302', 'mk1317',\n",
    "'tk0412', 'vk0656', 'sm2985', 'mm2372', 'un0045', 'an0892', 'sn0913', 'gp0252', 'ap1484', 'mr1765',\n",
    "'sr1385', 'sr1335', 'hs0665', 'ms2060', 'gt0217', 'nt0385', 'tv0186', 'sv1394', 'sv1752', 'sv1555', 'sy0594' ]\n",
    "l=[]\n",
    "p=[]\n",
    "for i in range(len(student_list_spring_2024)):\n",
    "    j=random.choice(student_list_spring_2024)\n",
    "    l.append(j)\n",
    "    student_list_spring_2024.remove(j)\n",
    "    if(len(l)==6):\n",
    "        p.append(l)\n",
    "        l=[]\n",
    "for i in p:\n",
    "    print(i,\"\\n\")"
   ]
  },
  {
   "cell_type": "markdown",
   "metadata": {
    "id": "fmZ9vX20Qs3d"
   },
   "source": [
    "## Question 16\n",
    "Create a program that takes a positive integer 'n' as input and prints the count of even numbers from 1 to 'n'. Optimize the loop using the break statement."
   ]
  },
  {
   "cell_type": "code",
   "execution_count": 26,
   "metadata": {
    "colab": {
     "base_uri": "https://localhost:8080/"
    },
    "id": "W8Jw6sWMQs3d",
    "outputId": "c1934d50-3d5e-4dd2-f059-d3a637cdfdef"
   },
   "outputs": [
    {
     "name": "stdout",
     "output_type": "stream",
     "text": [
      "Please enter a positive integer:4\n",
      "The count of even numbers from 1 to 4 are: 2\n"
     ]
    }
   ],
   "source": [
    "n=int(input(\"Please enter a positive integer:\"))\n",
    "c=0\n",
    "i=1\n",
    "while(1):\n",
    "  if i%2==0:\n",
    "    c=c+1\n",
    "  i=i+1\n",
    "  if i>n:\n",
    "    break\n",
    "print(\"The count of even numbers from 1 to\",n,\"are:\",c)"
   ]
  },
  {
   "cell_type": "markdown",
   "metadata": {
    "id": "hvq4APMhQs3d"
   },
   "source": [
    "## Question 17\n",
    "Develop a Python function called 'count_vowels' that takes a string as input and returns the count of vowels (both lowercase and uppercase) present in the string, ignoring spaces and non-alphabetic characters."
   ]
  },
  {
   "cell_type": "code",
   "execution_count": 27,
   "metadata": {
    "colab": {
     "base_uri": "https://localhost:8080/"
    },
    "id": "ZnoxhSglQs3d",
    "outputId": "5a56ffa3-4a0e-469b-bbf3-82782a037cff"
   },
   "outputs": [
    {
     "name": "stdout",
     "output_type": "stream",
     "text": [
      "Please enter a string:apple\n",
      "The count of vowels: 2\n"
     ]
    }
   ],
   "source": [
    "# write your answer here\n",
    "s=input(\"Please enter a string:\")\n",
    "def count_vowels(s):\n",
    "  c=0\n",
    "  v='aeiouAEIOU'\n",
    "  for i in s:\n",
    "    if i in v:\n",
    "      c=c+1\n",
    "  return c\n",
    "c=count_vowels(s)\n",
    "print(\"The count of vowels:\",c)\n"
   ]
  },
  {
   "cell_type": "markdown",
   "metadata": {
    "id": "55FWoSJPVVM6"
   },
   "source": [
    "## Question 18\n",
    "Create a custom exception named ValueTooSmallError in Python. Write a program that takes user input for an age, and if the entered age is less than 18, raise the ValueTooSmallError with an appropriate error message."
   ]
  },
  {
   "cell_type": "code",
   "execution_count": 34,
   "metadata": {
    "colab": {
     "base_uri": "https://localhost:8080/"
    },
    "id": "hwtr1wZmVX5A",
    "outputId": "99c86651-2139-49a0-a0de-288c814640c0"
   },
   "outputs": [
    {
     "name": "stdout",
     "output_type": "stream",
     "text": [
      "Enter the age: 2\n",
      "Age is less than 18.\n"
     ]
    }
   ],
   "source": [
    "class ValueTooSmallError(Exception):\n",
    "    pass\n",
    "def check(age):\n",
    "    if age < 18:\n",
    "        raise ValueTooSmallError(\"Age is less than 18.\")\n",
    "    else:\n",
    "        print(\"Age is 18 or older.\")\n",
    "try:\n",
    "    age = int(input(\"Enter the age: \"))\n",
    "    check(age)\n",
    "except ValueError:\n",
    "    print(\"Please enter a valid integer for age.\")\n",
    "except ValueTooSmallError as e1:\n",
    "    print(e1)\n"
   ]
  },
  {
   "cell_type": "markdown",
   "metadata": {
    "id": "Q9ecagcaVazW"
   },
   "source": [
    "## Question 19\n",
    "Develop a script that reverses a given string without using built-in reverse functions."
   ]
  },
  {
   "cell_type": "code",
   "execution_count": 29,
   "metadata": {
    "colab": {
     "base_uri": "https://localhost:8080/"
    },
    "id": "gycgckoAVZjR",
    "outputId": "e3075506-c5d3-4229-9944-fa46ac07066f"
   },
   "outputs": [
    {
     "name": "stdout",
     "output_type": "stream",
     "text": [
      "Please enter a string:reddy\n",
      "ydder\n"
     ]
    }
   ],
   "source": [
    "s=input(\"Please enter a string:\")\n",
    "s1=''\n",
    "for i in range(len(s)-1,-1,-1):\n",
    "  s1=s1+s[i]\n",
    "print(s1)"
   ]
  },
  {
   "cell_type": "markdown",
   "metadata": {
    "id": "ZFG6RibifMLu"
   },
   "source": [
    "## Question 20\n",
    "Implement a Python script to generate a random password of a specified length."
   ]
  },
  {
   "cell_type": "code",
   "execution_count": 107,
   "metadata": {
    "colab": {
     "base_uri": "https://localhost:8080/"
    },
    "id": "BFVrkEi9fNiD",
    "outputId": "8effd1d4-2444-4ec6-a161-dbaef880d68e"
   },
   "outputs": [
    {
     "name": "stdout",
     "output_type": "stream",
     "text": [
      "Please enter the password length:6\n",
      "The random password is: 64019U\n"
     ]
    }
   ],
   "source": [
    "import random\n",
    "import string\n",
    "length=int(input(\"Please enter the password length:\"))\n",
    "characters=string.ascii_letters+string.digits+string.punctuation\n",
    "rand_password=''.join(random.choices(characters,k=length))\n",
    "print(\"The random password is:\",rand_password)"
   ]
  },
  {
   "cell_type": "markdown",
   "metadata": {
    "id": "6SmvS7nSfbj8"
   },
   "source": [
    "# Try these questions"
   ]
  },
  {
   "cell_type": "markdown",
   "metadata": {
    "id": "cboAr5pEWUf5"
   },
   "source": [
    "(21) Define a base class called 'Vehicle' with attributes make and model. Create a derived class Car that inherits from Vehicle and has an additional attribute 'num_doors'. Demonstrate an example of creating an instance of the 'Car' class and accessing its attributes."
   ]
  },
  {
   "cell_type": "code",
   "execution_count": 31,
   "metadata": {
    "id": "phs9gciMWWAW"
   },
   "outputs": [
    {
     "name": "stdout",
     "output_type": "stream",
     "text": [
      "Make: Toyota\n",
      "Model: Corolla\n",
      "Number of doors: 4\n"
     ]
    }
   ],
   "source": [
    "class Vehicle:\n",
    "    def __init__(self, make, model):\n",
    "        self.make = make\n",
    "        self.model = model\n",
    "class Car(Vehicle):\n",
    "    def __init__(self, make, model, num_doors):\n",
    "        super().__init__(make, model)  \n",
    "        self.num_doors = num_doors  \n",
    "my_car = Car(\"Toyota\", \"Corolla\", 4)\n",
    "\n",
    "print(f\"Make: {my_car.make}\")\n",
    "print(f\"Model: {my_car.model}\")\n",
    "print(f\"Number of doors: {my_car.num_doors}\")\n"
   ]
  },
  {
   "cell_type": "markdown",
   "metadata": {
    "id": "J8HHefNtePwd"
   },
   "source": [
    "(22) Create a class called 'Shape' with a method calculate_area(). Implement two derived classes 'Circle' and 'Rectangle' that inherit from Shape and override the calculate_area() method. Demonstrate polymorphism by creating instances of both derived classes and calling the calculate_area() method."
   ]
  },
  {
   "cell_type": "code",
   "execution_count": 32,
   "metadata": {
    "id": "btnMmUZDeRhS"
   },
   "outputs": [
    {
     "name": "stdout",
     "output_type": "stream",
     "text": [
      "Area: 78.53981633974483\n",
      "Area: 50\n"
     ]
    }
   ],
   "source": [
    "import math\n",
    "class Shape:\n",
    "    def calculate_area(self):\n",
    "        pass  \n",
    "class Circle(Shape):\n",
    "    def __init__(self, radius):\n",
    "        self.radius = radius\n",
    "    def calculate_area(self):\n",
    "        return math.pi * self.radius ** 2\n",
    "class Rectangle(Shape):\n",
    "    def __init__(self, length, width):\n",
    "        self.length = length\n",
    "        self.width = width\n",
    "    def calculate_area(self):\n",
    "        return self.length * self.width\n",
    "circle = Circle(5) \n",
    "rectangle = Rectangle(10, 5)  \n",
    "shapes = [circle, rectangle]\n",
    "for shape in shapes:\n",
    "    print(f\"Area: {shape.calculate_area()}\")\n"
   ]
  },
  {
   "cell_type": "markdown",
   "metadata": {
    "id": "z0oqEAlTeMUS"
   },
   "source": [
    "(23) Write a Python program that prompts the user to enter two numbers and perform a division operation. Handle exceptions for both zero division and invalid input (non-numeric input). Display appropriate error messages for each type of exception and ensure the program does not crash due to these errors."
   ]
  },
  {
   "cell_type": "code",
   "execution_count": 33,
   "metadata": {
    "id": "yjdc1zM1eMAs"
   },
   "outputs": [
    {
     "name": "stdout",
     "output_type": "stream",
     "text": [
      "Enter the first number: 3\n",
      "Enter the second number: 0\n",
      "Error: Cannot divide by zero.\n"
     ]
    }
   ],
   "source": [
    "def main():\n",
    "    try:\n",
    "        num1 = float(input(\"First number: \"))\n",
    "        num2 = float(input(\"Second number: \"))\n",
    "        result = num1 / num2\n",
    "        print(\"Result: \", result)\n",
    "    except ZeroDivisionError:\n",
    "        print(\"Error: Cannot divide by zero.\")\n",
    "    except ValueError:\n",
    "        print(\"Error: Please enter a valid number.\")\n",
    "main()"
   ]
  },
  {
   "cell_type": "markdown",
   "metadata": {
    "id": "sZOhks1dXWEe"
   },
   "source": [
    "# Mandatory Question"
   ]
  },
  {
   "cell_type": "markdown",
   "metadata": {
    "id": "eqmHVEwaWhbV"
   },
   "source": [
    "**Important:**\n",
    "Reflecting on the first three lectures and the exercises you've completed, please provide feedback on your learning experience. Share your thoughts on whether the material covered was clear, the exercises were helpful, and if you feel more confident in applying Python programming concepts. Additionally, mention any specific areas where you would like more clarification or topics you would like to explore further in future lectures. Your feedback is valuable in shaping the course for an effective learning journey."
   ]
  },
  {
   "cell_type": "code",
   "execution_count": null,
   "metadata": {
    "id": "akAVJn9YBTQT"
   },
   "outputs": [],
   "source": [
    "'''\n",
    "The course has provided a solid foundation in Python, with clear material and \n",
    "effective exercises that enhance understanding and application of programming concepts. \n",
    "The balance between theory and practice has been particularly beneficial, boosting my confidence. \n",
    "I am eager to dive deeper into data structures and object-oriented programming in future lectures.\n",
    "'''"
   ]
  }
 ],
 "metadata": {
  "colab": {
   "collapsed_sections": [
    "DymRJbxDBCnf",
    "FBKvD6O_TY6e",
    "6SmvS7nSfbj8",
    "sZOhks1dXWEe"
   ],
   "provenance": [],
   "toc_visible": true
  },
  "kernelspec": {
   "display_name": "Python 3 (ipykernel)",
   "language": "python",
   "name": "python3"
  },
  "language_info": {
   "codemirror_mode": {
    "name": "ipython",
    "version": 3
   },
   "file_extension": ".py",
   "mimetype": "text/x-python",
   "name": "python",
   "nbconvert_exporter": "python",
   "pygments_lexer": "ipython3",
   "version": "3.9.13"
  }
 },
 "nbformat": 4,
 "nbformat_minor": 1
}
